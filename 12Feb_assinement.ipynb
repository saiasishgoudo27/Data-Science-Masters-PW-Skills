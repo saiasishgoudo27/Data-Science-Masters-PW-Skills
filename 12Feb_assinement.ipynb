{
 "cells": [
  {
   "cell_type": "code",
   "execution_count": null,
   "id": "482c2f19-08f0-4a36-97bb-61a0caec2291",
   "metadata": {},
   "outputs": [],
   "source": [
    "\"\"\"Q1. What is an exceptions in python ? write the differences between Exceptions and syntax errors ?\"\"\"\n",
    "\n",
    "#In Python, an exception is an event that occurs during the execution of a program that disrupts the normal flow of instructions. It is a way of handling errors and exceptional situations in Python programs.\n",
    "\n",
    "#DIFFERENCES:\n",
    "    #Nature of Occurrence:\n",
    "\n",
    "#Exceptions: Exceptions occur at runtime when an error or exceptional condition is encountered while executing the program.\n",
    "#Syntax Errors: Syntax errors occur during the parsing stage, before the program is executed, when there is a mistake in the syntax or structure of the code.\n",
    "    #Detection:\n",
    "\n",
    "#Exceptions: Exceptions are detected during the program's execution when an exceptional situation arises.\n",
    "#Syntax Errors: Syntax errors are detected by the Python interpreter before the program starts running, during the parsing phase.\n",
    "    #Impact on Program Execution:\n",
    "\n",
    "#Exceptions: When an exception occurs, it interrupts the normal flow of the program and can be caught and handled to prevent program termination.\n",
    "#Syntax Errors: Syntax errors prevent the program from running at all because they indicate a fundamental mistake in the code's structure.\n",
    "    #Handling:\n",
    "\n",
    "#Exceptions: Exceptions can be handled using try-except blocks. The program can catch the exception, perform specific actions to handle the exceptional condition, and continue with the rest of the program.\n",
    "#Syntax Errors: Syntax errors cannot be caught or handled during runtime since they prevent the program from executing in the first place. They need to be fixed in the code before running it.\n",
    "\n",
    "#SUMMARY:\n",
    "    # exceptions occur during the execution of a program when an error or exceptional condition is encountered, while syntax errors occur before the program runs due to mistakes in the code's syntax. Exceptions can be caught and handled during runtime, while syntax errors need to be fixed before the program can be executed.\n",
    "    "
   ]
  },
  {
   "cell_type": "code",
   "execution_count": 7,
   "id": "0174d787-6092-491a-88ba-16a829f94d00",
   "metadata": {},
   "outputs": [
    {
     "name": "stdout",
     "output_type": "stream",
     "text": [
      "Result:\n"
     ]
    },
    {
     "ename": "ZeroDivisionError",
     "evalue": "division by zero",
     "output_type": "error",
     "traceback": [
      "\u001b[0;31m---------------------------------------------------------------------------\u001b[0m",
      "\u001b[0;31mZeroDivisionError\u001b[0m                         Traceback (most recent call last)",
      "Cell \u001b[0;32mIn[7], line 9\u001b[0m\n\u001b[1;32m      7\u001b[0m b\u001b[38;5;241m=\u001b[39m\u001b[38;5;241m0\u001b[39m\n\u001b[1;32m      8\u001b[0m \u001b[38;5;28mprint\u001b[39m(\u001b[38;5;124m\"\u001b[39m\u001b[38;5;124mResult:\u001b[39m\u001b[38;5;124m\"\u001b[39m)\n\u001b[0;32m----> 9\u001b[0m \u001b[38;5;28mprint\u001b[39m(\u001b[43ma\u001b[49m\u001b[38;5;241;43m/\u001b[39;49m\u001b[43mb\u001b[49m)\n",
      "\u001b[0;31mZeroDivisionError\u001b[0m: division by zero"
     ]
    }
   ],
   "source": [
    "\"\"\"Q2.What happens when an exception is not handled ? Explain With an example?\"\"\"\n",
    "\n",
    "#When an exception is not handled, it leads to what is known as an \"unhandled exception.\" When an unhandled exception occurs, the program's normal flow is disrupted, and the interpreter displays an error message traceback that includes information about the exception type, the line of code where the exception occurred, and the sequence of function calls that led to the exception\n",
    "\n",
    "#Here, there is an Example for Exception is not handled:\n",
    "a=10\n",
    "b=0\n",
    "print(\"Result:\")\n",
    "print(a/b)"
   ]
  },
  {
   "cell_type": "code",
   "execution_count": 9,
   "id": "429cbb17-d48b-4e9a-ada6-2f4319d94e77",
   "metadata": {},
   "outputs": [
    {
     "name": "stdout",
     "output_type": "stream",
     "text": [
      "ERROR:  division by zero\n"
     ]
    }
   ],
   "source": [
    "\"\"\"Q3.Which Python Statements are used to catch and handle exceptions ? Explain with an Example ?\"\"\"\n",
    "\n",
    "#In Python, the try and except  statement is used to catch and handle exceptions. The try block contains the code that may raise an exception, and the Except block specifies the actions to be taken when a specific exception occurs.\n",
    "\n",
    "#Example:\n",
    "a=7\n",
    "b=0\n",
    "try:\n",
    "    print(a/b)\n",
    "except ZeroDivisionError as e:\n",
    "    print(\"ERROR: \",e)"
   ]
  },
  {
   "cell_type": "code",
   "execution_count": 14,
   "id": "3fc404bd-459a-4308-b06a-03a2e0486b71",
   "metadata": {},
   "outputs": [
    {
     "name": "stdout",
     "output_type": "stream",
     "text": [
      "3\n",
      "code is running with no errors\n"
     ]
    }
   ],
   "source": [
    "\"\"\"Q4.Explain With an Example:\n",
    "    a.Try and Else\n",
    "    b.Finally\n",
    "    c.raise\"\"\"\n",
    "# A. Try and Else:\n",
    "a=1\n",
    "b=2\n",
    "try:\n",
    "    print(a+b)\n",
    "except AttributeError as e:\n",
    "    print(\"ERROR : \",e)\n",
    "else:\n",
    "    print(\"code is running with no errors\")"
   ]
  },
  {
   "cell_type": "code",
   "execution_count": 15,
   "id": "6041344a-24a4-497f-b541-df32f95607b0",
   "metadata": {},
   "outputs": [
    {
     "name": "stdout",
     "output_type": "stream",
     "text": [
      "ERROR :We cannot concantenate the 'int' and 'string' \n",
      "if there is error or if there is a no error also this will be executed\n"
     ]
    }
   ],
   "source": [
    "# B. Finally:\n",
    "integer=6\n",
    "name=\"data\"\n",
    "try:\n",
    "    print(integer + name)\n",
    "except:\n",
    "    print(\"ERROR :We cannot concantenate the 'int' and 'string' \")\n",
    "finally:\n",
    "    print(\"if there is error or if there is a no error also this will be executed\")"
   ]
  },
  {
   "cell_type": "code",
   "execution_count": 2,
   "id": "c4a3f2a0-de88-47dc-a53b-1915396b43f9",
   "metadata": {},
   "outputs": [
    {
     "name": "stdout",
     "output_type": "stream",
     "text": [
      "Error: Cannot divide by zero\n"
     ]
    }
   ],
   "source": [
    "#Raise:\n",
    "def division(a, b):\n",
    "    if b == 0:\n",
    "        raise ValueError(\"Cannot divide by zero\")\n",
    "    return a / b\n",
    "try:\n",
    "    result = division(10, 0)\n",
    "except ValueError as e:\n",
    "    print(\"Error:\", e)\n"
   ]
  },
  {
   "cell_type": "code",
   "execution_count": 8,
   "id": "09919df9-4f4b-41b0-9aa5-d536f64ed6df",
   "metadata": {},
   "outputs": [
    {
     "name": "stdin",
     "output_type": "stream",
     "text": [
      "enter an age of a person -100\n"
     ]
    },
    {
     "name": "stdout",
     "output_type": "stream",
     "text": [
      "age is negative (Invalid)\n"
     ]
    }
   ],
   "source": [
    "\"\"\"Q5.What are custom Exceptions in python ? Why do we need Custom Exceptions ? Explain with an Example ?\"\"\"\n",
    "\n",
    "#Custom exceptions in Python are user-defined exceptions that are created by extending the base Exception class or one of its subclasses. These exceptions allow developers to define their own error conditions and raise them when specific conditions are met.\n",
    "\n",
    "# We need Custom Exceptions For:\n",
    " #1.Specific error handling..\n",
    " #2.Code Organization...\n",
    " #3.Customized error messages...\n",
    "    \n",
    "#Example:\n",
    "class InvalidAgeError(Exception):\n",
    "    pass\n",
    "def validage(age):\n",
    "    if age>200:\n",
    "        raise InvalidAgeError(\"age is very high\")\n",
    "    elif age<0:\n",
    "        raise InvalidAgeError(\"age is negative (Invalid)\")\n",
    "    else:\n",
    "        raise InvalidAgeError(\"age is valid\")\n",
    "try:\n",
    "    age=int(input(\"enter an age of a person\"))\n",
    "    validage(age)\n",
    "except InvalidAgeError as e:\n",
    "    print(e)"
   ]
  },
  {
   "cell_type": "code",
   "execution_count": null,
   "id": "3baf8cb2-c31a-4f3b-a08a-5468943d9878",
   "metadata": {},
   "outputs": [],
   "source": [
    "\"\"\"Q6.create a custom Exception class.Use this class to handle an exception ?\"\"\"\n",
    "class custom_exception(Exception):\n",
    "    pass\n",
    "def price_of_book(price):\n",
    "    if price<0:\n",
    "        raise custom_exception(\"this is not a price of a book(PRICE IS INVALID)\")\n",
    "try:\n",
    "    price=double(input(\"enter an price of a books\"))\n",
    "    price_of_book(price)\n",
    "    print(\"The price of the book is : \",price)\n",
    "except custom_exception as e:\n",
    "    print(e)"
   ]
  }
 ],
 "metadata": {
  "kernelspec": {
   "display_name": "Python 3 (ipykernel)",
   "language": "python",
   "name": "python3"
  },
  "language_info": {
   "codemirror_mode": {
    "name": "ipython",
    "version": 3
   },
   "file_extension": ".py",
   "mimetype": "text/x-python",
   "name": "python",
   "nbconvert_exporter": "python",
   "pygments_lexer": "ipython3",
   "version": "3.10.8"
  }
 },
 "nbformat": 4,
 "nbformat_minor": 5
}
