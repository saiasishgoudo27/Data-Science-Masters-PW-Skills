{
 "cells": [
  {
   "cell_type": "code",
   "execution_count": 7,
   "id": "3c290f29-6ce1-45b4-a619-e5162b8e0d90",
   "metadata": {},
   "outputs": [
    {
     "data": {
      "text/plain": [
       "[1, 3, 5, 7, 9, 11, 13, 15, 17, 19, 21, 23]"
      ]
     },
     "execution_count": 7,
     "metadata": {},
     "output_type": "execute_result"
    }
   ],
   "source": [
    "'''Q1. Which keyword is used to create a function? Create a function to return a list of odd numbers in the\n",
    "range of 1 to 25.'''\n",
    "#we use def keyword to create a function..\n",
    "def odd():\n",
    "    return list(range(1,25,2))\n",
    "odd()"
   ]
  },
  {
   "cell_type": "code",
   "execution_count": 52,
   "id": "0f0df9cb-636f-47e1-833c-e0d3a64f64e9",
   "metadata": {},
   "outputs": [
    {
     "name": "stdout",
     "output_type": "stream",
     "text": [
      "args : 1\n",
      "args : 2\n",
      "args : 3\n",
      "a : 4\n",
      "b : 5\n",
      "c : 6\n"
     ]
    }
   ],
   "source": [
    "'''Q2. Why *args and **kwargs is used in some functions? Create a function each for *args and **kwargs\n",
    "to demonstrate their use.'''\n",
    "#*args is used to pass a non-keyworded, variable length argument list to the function. When calling the function, you can pass any number of arguments without explicitly naming them. The arguments will be passed to the function as a tuple.\n",
    "#**kwargs is used to pass keyworded, variable length argument dictionary to the function. When calling the function, you can pass any number of keyword arguments without explicitly naming them. The keyword arguments will be passed to the function as a dictionary.\n",
    "\n",
    "#for example,\n",
    "def func(*args,**kwargs):\n",
    "    for i in args:\n",
    "        print(f\"args : {i}\")\n",
    "    for i,j in kwargs.items():\n",
    "        print(f\"{i} : {j}\")\n",
    "func(1,2,3,a=4,b=5,c=6)\n"
   ]
  },
  {
   "cell_type": "code",
   "execution_count": 8,
   "id": "d0b83e60-432f-49fb-a12b-3d86b3913941",
   "metadata": {},
   "outputs": [
    {
     "name": "stdout",
     "output_type": "stream",
     "text": [
      "2\n",
      "4\n",
      "6\n",
      "8\n",
      "10\n"
     ]
    }
   ],
   "source": [
    "'''Q3. What is an iterator in python? Name the method used to initialise the iterator object and the method\n",
    "used for iteration. Use these methods to print the first five elements of the given list [2, 4, 6, 8, 10, 12, 14,\n",
    "16, 18, 20].'''\n",
    "#An iterator in Python is an object that implements the iterator protocol, which consists of the methods __iter__() and __next__(). An object is called an iterator if it can be in iterable.\n",
    "list_numbers=[2,4,6,8,10,12,14,16,18,20]\n",
    "\n",
    "#initilazing the iterator object.\n",
    "iterator_obj=iter(list_numbers)\n",
    "\n",
    "#to print the first five elements of the given list\n",
    "for i in range(5):\n",
    "    print(next(iterator_obj))"
   ]
  },
  {
   "cell_type": "code",
   "execution_count": 20,
   "id": "e246d883-f27d-457a-9eb4-5d4ae95a8d2b",
   "metadata": {},
   "outputs": [
    {
     "name": "stdout",
     "output_type": "stream",
     "text": [
      "1\n",
      "2\n",
      "3\n",
      "4\n",
      "5\n"
     ]
    }
   ],
   "source": [
    "\"\"\"Q4. What is a generator function in python? Why yield keyword is used? Give an example of a generator\n",
    "function.\"\"\"\n",
    "\n",
    "#a generator is a function that returns an iterator object,which you can use to iterate over the sequence of values that the generator function produces.\n",
    "#the yield keyword is used in generator functions to indicate that the function should be generator that produces a sequence of values instead of a regular function that returns a single value.\n",
    "\n",
    "#example:\n",
    "def test():\n",
    "    count=1\n",
    "    while count<=5:\n",
    "        yield count\n",
    "        count = count + 1\n",
    "        \n",
    "        \n",
    "for i in test():\n",
    "     print(i)"
   ]
  },
  {
   "cell_type": "code",
   "execution_count": null,
   "id": "9488dab8-1ebb-495c-9f9d-15dec9b7dd86",
   "metadata": {},
   "outputs": [],
   "source": [
    "\"\"\"Q5. Create a generator function for prime numbers less than 1000. Use the next() method to print the\n",
    "first 20 prime numbers.\"\"\""
   ]
  },
  {
   "cell_type": "code",
   "execution_count": 38,
   "id": "1d7c5ce8-b9f6-4b9b-abd2-20e2eb751283",
   "metadata": {},
   "outputs": [
    {
     "name": "stdout",
     "output_type": "stream",
     "text": [
      "0\n",
      "1\n",
      "1\n",
      "2\n",
      "3\n",
      "5\n",
      "8\n",
      "13\n",
      "21\n",
      "34\n"
     ]
    }
   ],
   "source": [
    "\"\"\"Q6. Write a python program to print the first 10 Fibonacci numbers using a while loop.\"\"\"\n",
    "a,b=0,1\n",
    "i=1\n",
    "while i<=10:\n",
    "    print(a)\n",
    "    c = a + b\n",
    "    a = b\n",
    "    b = c\n",
    "    i = i + 1"
   ]
  },
  {
   "cell_type": "code",
   "execution_count": 40,
   "id": "45c1d9db-65d1-4289-bddb-5039a21c0973",
   "metadata": {},
   "outputs": [
    {
     "name": "stdout",
     "output_type": "stream",
     "text": [
      "['p', 'w', 's', 'k', 'i', 'l', 'l', 's']\n"
     ]
    }
   ],
   "source": [
    "\"\"\"Q7. Write a List Comprehension to iterate through the given string: ‘pwskills’.\n",
    "Expected output: ['p', 'w', 's', 'k', 'i', 'l', 'l', 's']\"\"\"\n",
    "\n",
    "s=\"pwskills\"\n",
    "list=[i for i in s]\n",
    "print(list)"
   ]
  },
  {
   "cell_type": "code",
   "execution_count": 51,
   "id": "930a23e0-69c2-489e-82d4-6a6f8f1ba4b0",
   "metadata": {},
   "outputs": [
    {
     "name": "stdin",
     "output_type": "stream",
     "text": [
      "enter an number 33\n"
     ]
    },
    {
     "name": "stdout",
     "output_type": "stream",
     "text": [
      "it is an palidrome number\n"
     ]
    }
   ],
   "source": [
    "\"\"\"Q8. Write a python program to check whether a given number is Palindrome or not using a while loop.\"\"\"\n",
    "rev = 0\n",
    "n = int(input(\"enter an number\"))\n",
    "s=n\n",
    "while(n>0):\n",
    "    rem = n%10\n",
    "    rev = rev*10+rem\n",
    "    n =n//10\n",
    "if(rev==s):\n",
    "    print(\"it is an palidrome number\")\n",
    "else:\n",
    "    print(\"it is not a palidrome number\")"
   ]
  },
  {
   "cell_type": "code",
   "execution_count": 47,
   "id": "96ca2740-defa-4fc0-aa2a-2eed154331ae",
   "metadata": {},
   "outputs": [
    {
     "name": "stdout",
     "output_type": "stream",
     "text": [
      "[1, 3, 5, 7, 9, 11, 13, 15, 17, 19, 21, 23, 25, 27, 29, 31, 33, 35, 37, 39, 41, 43, 45, 47, 49, 51, 53, 55, 57, 59, 61, 63, 65, 67, 69, 71, 73, 75, 77, 79, 81, 83, 85, 87, 89, 91, 93, 95, 97, 99]\n"
     ]
    }
   ],
   "source": [
    "\"\"\"Q9. Write a code to print odd numbers from 1 to 100 using list comprehension.\"\"\"\n",
    "list=[i for i in range(100) if i%2!=0]\n",
    "print(list)"
   ]
  },
  {
   "cell_type": "code",
   "execution_count": null,
   "id": "25f1039b-6413-4f07-a774-aa454b5f4f07",
   "metadata": {},
   "outputs": [],
   "source": []
  },
  {
   "cell_type": "code",
   "execution_count": null,
   "id": "b1f8ed8f-dfea-42da-bb2b-8bceaee29ac3",
   "metadata": {},
   "outputs": [],
   "source": []
  }
 ],
 "metadata": {
  "kernelspec": {
   "display_name": "Python 3 (ipykernel)",
   "language": "python",
   "name": "python3"
  },
  "language_info": {
   "codemirror_mode": {
    "name": "ipython",
    "version": 3
   },
   "file_extension": ".py",
   "mimetype": "text/x-python",
   "name": "python",
   "nbconvert_exporter": "python",
   "pygments_lexer": "ipython3",
   "version": "3.10.8"
  }
 },
 "nbformat": 4,
 "nbformat_minor": 5
}
