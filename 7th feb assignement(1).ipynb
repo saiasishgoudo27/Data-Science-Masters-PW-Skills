{
 "cells": [
  {
   "cell_type": "code",
   "execution_count": 1,
   "id": "d2083e54-8910-4508-a15d-adfbe4533f90",
   "metadata": {},
   "outputs": [
    {
     "name": "stdin",
     "output_type": "stream",
     "text": [
      "enter an password :  Sai_Asish_@Nistian027\n"
     ]
    },
    {
     "name": "stdout",
     "output_type": "stream",
     "text": [
      "valid password\n",
      "None\n"
     ]
    }
   ],
   "source": [
    "\"\"\"Q1. You are writing code for a company. The requirement of the company is that you create a python\n",
    "function that will check whether the password entered by the user is correct or not. The function should\n",
    "take the password as input and return the string “Valid Password” if the entered password follows the\n",
    "below-given password guidelines else it should return “Invalid Password”.\n",
    "\n",
    "Note: 1. The Password should contain at least two uppercase letters and at least two lowercase letters.\n",
    "2. The Password should contain at least a number and three special characters.\n",
    "3. The length of the password should be 10 characters long.\"\"\"\n",
    "\n",
    "def check(str):\n",
    "    up,lb,n,sp=0,0,0,0;\n",
    "    sp_char = \"[@_!#$%^&*()<>?/\\|}{~:]\"\n",
    "    for i in str:\n",
    "        if i.isupper():\n",
    "            up=up+1\n",
    "        elif i.islower():\n",
    "            lb=lb+1\n",
    "        elif i in sp_char:\n",
    "            sp=sp+1\n",
    "        elif i.isdigit():\n",
    "            n=n+1\n",
    "        else:\n",
    "            return \"invalid password\"\n",
    "    if(len(str)>=10):\n",
    "        print(\"valid password\")\n",
    "    elif(up>=2 or lb>=2 or n>=1 or sp>=3):\n",
    "        print(\"valid password\")\n",
    "    else:\n",
    "        print(\"invalid password\")\n",
    "        \n",
    "password=input(\"enter an password : \")\n",
    "result=check(password);\n",
    "print(result)"
   ]
  },
  {
   "cell_type": "code",
   "execution_count": null,
   "id": "447ca394-194d-4aea-af7e-39265ce309a6",
   "metadata": {},
   "outputs": [],
   "source": [
    "\"\"\"Q2. Solve the below-given questions using at least one of the following:\n",
    "1. Lambda function\n",
    "2. Filter function\n",
    "3. map function\n",
    "4. List Comprehension\"\"\""
   ]
  },
  {
   "cell_type": "code",
   "execution_count": 3,
   "id": "60a15c0c-223c-4e24-9dad-32de4deee2b5",
   "metadata": {},
   "outputs": [
    {
     "data": {
      "text/plain": [
       "True"
      ]
     },
     "execution_count": 3,
     "metadata": {},
     "output_type": "execute_result"
    }
   ],
   "source": [
    "\"\"\" 1.Check if the string starts with a particular letter\"\"\"\n",
    "str_1=\"sai asish\"\n",
    "a=lambda str_1:True if(str_1.startswith(\"sai\")) else False\n",
    "a(str_1)"
   ]
  },
  {
   "cell_type": "code",
   "execution_count": 5,
   "id": "9696b404-c77b-4c70-b23e-c5457d0dd3bf",
   "metadata": {},
   "outputs": [
    {
     "data": {
      "text/plain": [
       "False"
      ]
     },
     "execution_count": 5,
     "metadata": {},
     "output_type": "execute_result"
    }
   ],
   "source": [
    "\"\"\"2.Check if the string is numeric\"\"\"\n",
    "str_2=\"saiasish27\"\n",
    "b=lambda str_2:True if(str_2.isnumeric()) else False\n",
    "b(str_2)"
   ]
  },
  {
   "cell_type": "code",
   "execution_count": 30,
   "id": "4021ba73-6bb1-4990-a059-94d5c77b74a3",
   "metadata": {},
   "outputs": [
    {
     "name": "stdout",
     "output_type": "stream",
     "text": [
      "[('grapes', 1000), ('mango', 99), ('orange', 80)]\n"
     ]
    }
   ],
   "source": [
    "\"\"\"3.Sort a list of tuples having fruit names and their quantity. [(\"mango\",99),(\"orange\",80), (\"grapes\", 1000)]\"\"\"\n",
    "l=[(\"mango\",99),(\"orange\",80), (\"grapes\", 1000)]\n",
    "l.sort(key=lambda y:y)\n",
    "print(l)"
   ]
  },
  {
   "cell_type": "code",
   "execution_count": 16,
   "id": "cf429438-dafb-4f4c-9830-1dee071ad2ae",
   "metadata": {},
   "outputs": [
    {
     "name": "stdout",
     "output_type": "stream",
     "text": [
      "[1, 4, 9, 16, 25, 36, 49, 64, 81, 100]\n"
     ]
    }
   ],
   "source": [
    "\"\"\"4.Find the squares of numbers from 1 to 10\"\"\"\n",
    "a=range(1,11)\n",
    "i=1\n",
    "l=[i**2 for i in a]\n",
    "print(l)"
   ]
  },
  {
   "cell_type": "code",
   "execution_count": 19,
   "id": "573ee457-25a4-4094-845c-0a8941752cb2",
   "metadata": {},
   "outputs": [
    {
     "name": "stdout",
     "output_type": "stream",
     "text": [
      "[1.0, 1.2599210498948734, 1.4422495703074083, 1.5874010519681996, 1.7099759466766968, 1.8171205928321394, 1.9129311827723894, 2.0, 2.080083823051904, 2.1544346900318834]\n"
     ]
    }
   ],
   "source": [
    "\"\"\"5.Find the cube root of numbers from 1 to 10\"\"\"\n",
    "import numpy\n",
    "b=range(1,11)\n",
    "i=1\n",
    "l=[numpy.cbrt(i) for i in b]\n",
    "print(l)"
   ]
  },
  {
   "cell_type": "code",
   "execution_count": 25,
   "id": "20df3c2c-69c4-4c8a-a540-f6cfd2e06805",
   "metadata": {},
   "outputs": [
    {
     "name": "stdin",
     "output_type": "stream",
     "text": [
      "enter an input value :  8\n"
     ]
    },
    {
     "name": "stdout",
     "output_type": "stream",
     "text": [
      "['even']\n"
     ]
    }
   ],
   "source": [
    "\"\"\"6.Check if a given number is even\"\"\"\n",
    "n=int(input(\"enter an input value : \"))\n",
    "l=[\"even\" if n%2==0 else \"odd\"]\n",
    "print(l)"
   ]
  },
  {
   "cell_type": "code",
   "execution_count": 24,
   "id": "342ee845-2f50-448d-94b8-1a9881f2462e",
   "metadata": {},
   "outputs": [
    {
     "data": {
      "text/plain": [
       "[1, 3, 5, 7, 9]"
      ]
     },
     "execution_count": 24,
     "metadata": {},
     "output_type": "execute_result"
    }
   ],
   "source": [
    "\"\"\"7.Filter odd numbers from the given list.\n",
    "[1,2,3,4,5,6,7,8,9,10]\"\"\"\n",
    "l=[1,2,3,4,5,6,7,8,9,10]\n",
    "list(filter(lambda x:x%2!=0,l))"
   ]
  },
  {
   "cell_type": "code",
   "execution_count": 28,
   "id": "bcd9aaf7-2c42-4ece-9da9-217592af88a6",
   "metadata": {},
   "outputs": [
    {
     "name": "stdout",
     "output_type": "stream",
     "text": [
      "[-5, -4, -3, -2, -1, 0, 1, 2, 3, 4, 5, 6]\n"
     ]
    }
   ],
   "source": [
    "\"\"\"8.Sort a list of integers into positive and negative integers lists.\n",
    "[1,2,3,4,5,6,-1,-2,-3,-4,-5,0]\"\"\"\n",
    "l=[1,2,3,4,5,6,-1,-2,-3,-4,-5,0]\n",
    "l.sort(key=lambda x:x)\n",
    "print(l)"
   ]
  }
 ],
 "metadata": {
  "kernelspec": {
   "display_name": "Python 3 (ipykernel)",
   "language": "python",
   "name": "python3"
  },
  "language_info": {
   "codemirror_mode": {
    "name": "ipython",
    "version": 3
   },
   "file_extension": ".py",
   "mimetype": "text/x-python",
   "name": "python",
   "nbconvert_exporter": "python",
   "pygments_lexer": "ipython3",
   "version": "3.10.8"
  }
 },
 "nbformat": 4,
 "nbformat_minor": 5
}
