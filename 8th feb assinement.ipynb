{
 "cells": [
  {
   "cell_type": "code",
   "execution_count": 11,
   "id": "9d4ac641-5ec4-4f9f-ae69-7d42051b9e19",
   "metadata": {},
   "outputs": [
    {
     "name": "stdout",
     "output_type": "stream",
     "text": [
      "mumbai indians won 5 ipl cups\n",
      "chennai super kings won 4 ipl cups\n",
      "gujarat titans won 1 ipl cup\n",
      "royal challenges bangalore still waiting for cup\n"
     ]
    }
   ],
   "source": [
    "\"\"\"Q1. What is Abstraction in OOps? Explain with an example.\"\"\"\n",
    "\n",
    "# Abstraction is used to hide the internal functionality of the function from the users.\n",
    "# The users only interact with the basic implementation of the function, but inner working is hidden\n",
    "\n",
    "#example\n",
    "\n",
    "import abc\n",
    "class IPL:\n",
    "    @abc.abstractmethod\n",
    "    def ipl_cups(self):\n",
    "        pass\n",
    "class MI(IPL):\n",
    "    def ipl_cups(self):\n",
    "        return \"mumbai indians won 5 ipl cups\"\n",
    "class CSK(IPL):\n",
    "    def ipl_cups(self):\n",
    "        return \"chennai super kings won 4 ipl cups\"\n",
    "class GT(IPL):\n",
    "    def ipl_cups(self):\n",
    "        return \"gujarat titans won 1 ipl cup\"\n",
    "class RCB(IPL):\n",
    "    def ipl_cups(self):\n",
    "        return \"royal challenges bangalore still waiting for cup\"\n",
    "ipl_1=MI()\n",
    "print(ipl_1.ipl_cups())\n",
    "\n",
    "ipl_2=CSK()\n",
    "print(ipl_2.ipl_cups())\n",
    "\n",
    "ipl_3=GT()\n",
    "print(ipl_3.ipl_cups())\n",
    "\n",
    "ipl_4=RCB()\n",
    "print(ipl_4.ipl_cups())"
   ]
  },
  {
   "cell_type": "code",
   "execution_count": 16,
   "id": "7252e89a-c0c9-410b-863a-7d6680a8cdd1",
   "metadata": {},
   "outputs": [
    {
     "name": "stdout",
     "output_type": "stream",
     "text": [
      "i have secured percentage = 92%\n",
      "studied in JMJ english medium high school\n",
      "i have secured percentage = 92%\n",
      "studied in sri chaitanya junior college\n",
      "my current percentage is = 82%\n",
      "studying in NIST institute of science and techonology\n"
     ]
    }
   ],
   "source": [
    "\"\"\"Q2. Differentiate between Abstraction and Encapsulation. Explain with an example.\"\"\"\n",
    "\n",
    "# Abstraction: Abstraction solves the problem and issues that arise at the design stage.\n",
    "#              Focus mainly on what should be done.\n",
    "#              You can use abstraction using Interface and Abstract Class.\n",
    "\n",
    "# Encapsulation: Encapsulation solves the problem and issue that arise at the implementation stage.\n",
    "#                Focus primarily on how it should be done.\n",
    "#                You can implement encapsulation using Access Modifiers (Public, Protected & Private.)\n",
    "\n",
    "#example for abstraction:\n",
    "\n",
    "import abc\n",
    "class qualifications:\n",
    "    @abc.abstractmethod\n",
    "    def secured_percentage(self):\n",
    "        pass\n",
    "    def college(self):\n",
    "        pass\n",
    "class matriculation(qualifications):\n",
    "    def secured_percentage(self):\n",
    "        return \"i have secured percentage = 92%\"\n",
    "    def college(self):\n",
    "        return \"studied in JMJ english medium high school\"\n",
    "class intermediate(qualifications):\n",
    "    def secured_percentage(self):\n",
    "        return \"i have secured percentage = 92%\"\n",
    "    def college(self):\n",
    "        return \"studied in sri chaitanya junior college\"\n",
    "class B_TECH(qualifications):\n",
    "    def secured_percentage(self):\n",
    "        return \"my current percentage is = 82%\"\n",
    "    def college(self):\n",
    "        return \"studying in NIST institute of science and techonology\"\n",
    "sai_asish=matriculation()\n",
    "print(sai_asish.secured_percentage())\n",
    "print(sai_asish.college())\n",
    "\n",
    "sai_asish1=intermediate()\n",
    "print(sai_asish1.secured_percentage())\n",
    "print(sai_asish1.college())\n",
    "\n",
    "sai_asish2=B_TECH()\n",
    "print(sai_asish2.secured_percentage())\n",
    "print(sai_asish2.college())\n",
    "    "
   ]
  },
  {
   "cell_type": "code",
   "execution_count": 33,
   "id": "a1a85e77-fb91-4a1f-88ed-540c20052093",
   "metadata": {},
   "outputs": [
    {
     "name": "stdout",
     "output_type": "stream",
     "text": [
      "90000\n"
     ]
    }
   ],
   "source": [
    "#example for encapsulation:\n",
    "\n",
    "class bank_account:\n",
    "    def __init__(self,balance):\n",
    "        self.__balance=balance;\n",
    "    def deposit(self,amount):\n",
    "        self.__balance=self.__balance+amount;\n",
    "    def withdrawal(self,amount):\n",
    "        if(self.__balance>=amount):\n",
    "            self.__balance=self.__balance-amount;\n",
    "            return True\n",
    "        else:\n",
    "            return False\n",
    "    def get_balance(self):\n",
    "        return self.__balance;\n",
    "sai=bank_account(90000)\n",
    "print(sai.get_balance())"
   ]
  },
  {
   "cell_type": "code",
   "execution_count": 34,
   "id": "b511eadb-5a48-47af-90cf-4bb6e809c47e",
   "metadata": {},
   "outputs": [
    {
     "name": "stdout",
     "output_type": "stream",
     "text": [
      "100000\n"
     ]
    }
   ],
   "source": [
    "sai.deposit(10000)\n",
    "print(sai.get_balance())"
   ]
  },
  {
   "cell_type": "code",
   "execution_count": 35,
   "id": "5b5b1caa-479c-4ac1-809e-80c4e1474d0d",
   "metadata": {},
   "outputs": [
    {
     "name": "stdout",
     "output_type": "stream",
     "text": [
      "98000\n"
     ]
    }
   ],
   "source": [
    "sai.withdrawal(2000)\n",
    "print(sai.get_balance())\n"
   ]
  },
  {
   "cell_type": "code",
   "execution_count": 4,
   "id": "304950c1-41ae-47ac-b60f-27f779bcbb96",
   "metadata": {},
   "outputs": [
    {
     "data": {
      "text/plain": [
       "'abc stands for \"Abstract Base Classes\\n# This module provides abstract base classes that can be used to test whether a class provides a particular interface\\n# It help you define a blueprint for other classes that may have something in common'"
      ]
     },
     "execution_count": 4,
     "metadata": {},
     "output_type": "execute_result"
    }
   ],
   "source": [
    "\"\"\"Q3. What is abc module in python? Why is it used?\"\"\"\n",
    "\n",
    "# abc stands for \"Abstract Base Classes\"\n",
    "# This module provides abstract base classes that can be used to test whether a class provides a particular interface.\n",
    "# It help you define a blueprint for other classes that may have something in common.\n",
    "\"\"\"abc stands for \"Abstract Base Classes\n",
    "# This module provides abstract base classes that can be used to test whether a class provides a particular interface\n",
    "# It help you define a blueprint for other classes that may have something in common\"\"\""
   ]
  },
  {
   "cell_type": "code",
   "execution_count": 5,
   "id": "93379d18-3ef2-420d-827e-71090eeb582a",
   "metadata": {},
   "outputs": [
    {
     "data": {
      "text/plain": [
       "'# The process of hiding the real implementation of an application from the user and emphasizing only on usage of it.\\n# Basically, Abstraction focuses on hiding the internal implementations of a process or method from the user.\\n# An abstract method is a method that is declared, but does not contain implementation.\\n'"
      ]
     },
     "execution_count": 5,
     "metadata": {},
     "output_type": "execute_result"
    }
   ],
   "source": [
    "\"\"\"Q4. How can we achieve data abstraction?\"\"\"\n",
    "\n",
    "# The process of hiding the real implementation of an application from the user and emphasizing only on usage of it.\n",
    "# Basically, Abstraction focuses on hiding the internal implementations of a process or method from the user.\n",
    "# An abstract method is a method that is declared, but does not contain implementation.\n",
    "\"\"\"# The process of hiding the real implementation of an application from the user and emphasizing only on usage of it.\n",
    "# Basically, Abstraction focuses on hiding the internal implementations of a process or method from the user.\n",
    "# An abstract method is a method that is declared, but does not contain implementation.\n",
    "\"\"\""
   ]
  },
  {
   "cell_type": "code",
   "execution_count": 6,
   "id": "e10163cd-a43c-4d27-8be6-c549d74d03ae",
   "metadata": {},
   "outputs": [
    {
     "data": {
      "text/plain": [
       "'# \"NO\",\\n# We cannot create an abstract class in Python directly. \\n# However, Python does provide a module that allows us to define abstract classes.\\n# The module we can use to create an abstract class in Python is abc(abstract base class) module.\\n'"
      ]
     },
     "execution_count": 6,
     "metadata": {},
     "output_type": "execute_result"
    }
   ],
   "source": [
    "\"\"\"Q5. Can we create an instance of an abstract class? Explain your answer.\"\"\"\n",
    "\n",
    "# \"NO\",\n",
    "# We cannot create an abstract class in Python directly. \n",
    "# However, Python does provide a module that allows us to define abstract classes.\n",
    "# The module we can use to create an abstract class in Python is abc(abstract base class) module.\n",
    "\"\"\"# \"NO\",\n",
    "# We cannot create an abstract class in Python directly. \n",
    "# However, Python does provide a module that allows us to define abstract classes.\n",
    "# The module we can use to create an abstract class in Python is abc(abstract base class) module.\n",
    "\"\"\""
   ]
  },
  {
   "cell_type": "code",
   "execution_count": null,
   "id": "a69f0dc3-385b-4d41-95b2-1b1ab39db7ac",
   "metadata": {},
   "outputs": [],
   "source": []
  }
 ],
 "metadata": {
  "kernelspec": {
   "display_name": "Python 3 (ipykernel)",
   "language": "python",
   "name": "python3"
  },
  "language_info": {
   "codemirror_mode": {
    "name": "ipython",
    "version": 3
   },
   "file_extension": ".py",
   "mimetype": "text/x-python",
   "name": "python",
   "nbconvert_exporter": "python",
   "pygments_lexer": "ipython3",
   "version": "3.10.8"
  }
 },
 "nbformat": 4,
 "nbformat_minor": 5
}
