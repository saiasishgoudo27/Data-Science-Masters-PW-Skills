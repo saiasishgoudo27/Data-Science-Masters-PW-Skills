{
 "cells": [
  {
   "cell_type": "code",
   "execution_count": null,
   "id": "b73d562d-cb22-4708-a41c-fec3add25b62",
   "metadata": {},
   "outputs": [],
   "source": [
    "\"\"\"Q1. What is a database? Differentiate between SQL and NoSQL databases.\"\"\"\n",
    "A database is a structured collection of data that is organized and stored in a way that allows for efficient retrieval, management, and manipulation of information. It provides a mechanism to store, manage, and retrieve data for various applications.\n",
    "\n",
    "Differences:\n",
    "#SQL DATABASE:\n",
    "    1.SQL (Structured Query Language) databases are based on the relational model.\n",
    "    2.They use tables to store data, with each table consisting of rows and columns.\n",
    "    3.The data is organized into predefined structures with a fixed schema.\n",
    "    4.SQL databases enforce ACID (Atomicity, Consistency, Isolation, Durability) properties to ensure data integrity.\n",
    "    5.SQL databases enforce ACID (Atomicity, Consistency, Isolation, Durability) properties to ensure data integrity.\n",
    "#NOSQL DATABASE:\n",
    "    1.SQL databases enforce ACID (Atomicity, Consistency, Isolation, Durability) properties to ensure data integrity.\n",
    "    2.They provide flexible schemas, allowing for dynamic and schema-less data.\n",
    "    3.NoSQL databases are horizontally scalable, meaning they can handle large amounts of data distributed across multiple servers.\n",
    "    4.NoSQL databases sacrifice some ACID properties (e.g., consistency) in favor of performance and scalability.\n",
    "    5.Examples of NoSQL databases include MongoDB, Cassandra, Redis, and Amazon DynamoDB."
   ]
  },
  {
   "cell_type": "code",
   "execution_count": null,
   "id": "78e460c2-fff0-401c-b762-101c4a07afec",
   "metadata": {},
   "outputs": [],
   "source": [
    "\"\"\"Q2.Q2. What is DDL? Explain why CREATE, DROP, ALTER, and TRUNCATE are used with an example.\"\"\"\n",
    "DDL :\n",
    "    1.DDL stands for Data Definition Language. It is a subset of SQL (Structured Query Language) that deals with defining and manipulating the structure of a database.\n",
    "    2.DDL statements are used to create, modify, and delete database objects such as tables, indexes, views, and constraints.\n",
    "    \n",
    "1.CREATE:\n",
    "    The CREATE statement is used to create a new database object, such as a table, view, index, or constraint. It specifies the name of the object and defines its structure and properties.\n",
    "  #Example:\n",
    "    CREATE TABLE student (name VARCHAR(30),age INT,email VARCHAR(10));\n",
    "2.DROP:\n",
    "    The DROP statement is used to remove an existing database object. It permanently deletes the object and all its associated data.\n",
    " #Example:\n",
    "    DROP TABLE student;\n",
    "3.ALTER:\n",
    "    The ALTER statement is used to modify the structure of an existing database object. It allows you to add, modify, or delete columns, constraints, or other properties of the object.\n",
    " #Example:\n",
    "    ALTER TABLE student ADD (phone_no INT);\n",
    "4.TRUNCATE:\n",
    "    The TRUNCATE statement is used to delete all the data from a table, but it keeps the table structure intact.\n",
    " #Example:\n",
    "    TRUNCATE TABLE student;"
   ]
  },
  {
   "cell_type": "code",
   "execution_count": null,
   "id": "78a34b9e-57d6-48d7-b3eb-95af8c53a215",
   "metadata": {},
   "outputs": [],
   "source": [
    "\"\"\"Q3. What is DML? Explain INSERT, UPDATE, and DELETE with an example.\"\"\"\n",
    "DML :\n",
    "    DML stands for Data Manipulation Language. It is a subset of SQL (Structured Query Language) that deals with manipulating the data stored in a database. DML statements are used to insert, update, and delete data in database tables.\n",
    "1.INSERT:\n",
    "    DML stands for Data Manipulation Language. It is a subset of SQL (Structured Query Language) that deals with manipulating the data stored in a database. DML statements are used to insert, update, and delete data in database tables.\n",
    " #Example:\n",
    "    INSERT INTO college (name,fees,area) VALUES ('nist',120000,'Berhampur');\n",
    "2.UPDATE:\n",
    "    The UPDATE statement is used to modify existing records in a table. It allows you to update specific columns of one or more records based on specified conditions.\n",
    " #Example:\n",
    "    UPDATE college SET branch='computer science and engineering',WHERE fees=110000;\n",
    "3.DELETE:\n",
    "    The DELETE statement is used to remove records from a table. It allows you to delete specific rows based on specified conditions.\n",
    " #Example:\n",
    "    DELETE FROM college WHERE fees=200000;"
   ]
  },
  {
   "cell_type": "code",
   "execution_count": null,
   "id": "3b2adcbf-c44f-4558-903d-197788c381f3",
   "metadata": {},
   "outputs": [],
   "source": [
    "\"\"\"Q4. What is DQL? Explain SELECT with an example.\"\"\"\n",
    "DQL :\n",
    "    DQL stands for Data Query Language. It is a subset of SQL (Structured Query Language) that is used to retrieve and query data from a database.\n",
    "SELECT:\n",
    "    The SELECT statement allows you to specify the columns you want to retrieve, the tableS from which to retrieve the data, and optional conditions to filter the data.\n",
    "#Example:\n",
    "    SELECT *FROM employee WHERE salary>90000;"
   ]
  },
  {
   "cell_type": "code",
   "execution_count": null,
   "id": "2ed0b3a4-3afa-4a79-bea7-1fd7780aae1a",
   "metadata": {},
   "outputs": [],
   "source": [
    "\"\"\"Q5. Explain Primary Key and Foreign Key.\"\"\"\n",
    "Primary key:\n",
    "    A primary key is a column or a combination of columns that uniquely identifies each record in a database table. It ensures the integrity and uniqueness of the data within the table.\n",
    "Foreign key:\n",
    "    A foreign key is a column or a combination of columns in a table that refers to the primary key of another table. It establishes a relationship between two tables based on the values in the foreign key columns.    "
   ]
  },
  {
   "cell_type": "code",
   "execution_count": null,
   "id": "94e5aeec-53b0-4d82-ab12-633fba81ef13",
   "metadata": {},
   "outputs": [],
   "source": [
    "\"\"\"Q6. Write a python code to connect MySQL to python. Explain the cursor() and execute() method.\"\"\"\n",
    "Code:\n",
    "    \n",
    "import mysql.connector\n",
    "mydb = mysql.connector.connect\n",
    "(\n",
    "    host = \"localhost\"\n",
    "    user = \"abc\"\n",
    "    password = \"sas\"\n",
    ")\n",
    "print(mydb)\n",
    "mycursor = mydb.cursor()\n",
    "mycursor.execute(\"SHOW DATABASES\")\n",
    "for a in mycursor:\n",
    "    print(a)\n",
    "    \n",
    "-----------------------------------------------------------------------\n",
    "\n",
    "Cursor():\n",
    "    The cursor() method creates a cursor object that allows you to execute SQL statements and retrieve results. It acts as a handle to interact with the database.\n",
    "execute():\n",
    "    The execute() method is called on the cursor object and is used to execute SQL queries. You pass the SQL query as a parameter to this method. It can be a query to select, insert, update, or delete data. After executing the query, the cursor holds the result set, which can be retrieved using methods like fetchall()."
   ]
  },
  {
   "cell_type": "code",
   "execution_count": null,
   "id": "54406e77-abe6-4e3f-b24c-7547a470c949",
   "metadata": {},
   "outputs": [],
   "source": [
    "\"\"\"Q7. Give the order of execution of SQL clauses in an SQL query.\"\"\"\n",
    "    1-------FROM---------Tables are joined to get the base data.\n",
    "    2-------WHERE--------The base data is filtered.\n",
    "    3-------GROUP BY-----The filtered base data is grouped.\n",
    "    4-------HAVING-------The grouped base data is filtered.\n",
    "    5-------SELECT-------The final data is returned.\n",
    "    6-------ORDER BY-----The final data is sorted.\n",
    "    7-------LIMIT--------The returned data is limited to row count."
   ]
  }
 ],
 "metadata": {
  "kernelspec": {
   "display_name": "Python 3 (ipykernel)",
   "language": "python",
   "name": "python3"
  },
  "language_info": {
   "codemirror_mode": {
    "name": "ipython",
    "version": 3
   },
   "file_extension": ".py",
   "mimetype": "text/x-python",
   "name": "python",
   "nbconvert_exporter": "python",
   "pygments_lexer": "ipython3",
   "version": "3.10.8"
  }
 },
 "nbformat": 4,
 "nbformat_minor": 5
}
