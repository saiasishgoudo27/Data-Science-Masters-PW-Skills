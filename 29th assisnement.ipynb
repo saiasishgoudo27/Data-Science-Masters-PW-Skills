{
 "cells": [
  {
   "cell_type": "code",
   "execution_count": 10,
   "id": "cc4aef56-3af6-4362-a55d-310b56ffa201",
   "metadata": {},
   "outputs": [
    {
     "data": {
      "text/plain": [
       "'Python was created by Guido van Rossum'"
      ]
     },
     "execution_count": 10,
     "metadata": {},
     "output_type": "execute_result"
    }
   ],
   "source": [
    "\"\"\"1. Who developed Python Programming Language?\"\"\"\n",
    "\n",
    "# Python was created by Guido van Rossum.\n",
    "\"\"\"Python was created by Guido van Rossum\"\"\""
   ]
  },
  {
   "cell_type": "code",
   "execution_count": 2,
   "id": "13c11098-e76f-4353-9e7b-e2fd8ed5ff11",
   "metadata": {},
   "outputs": [
    {
     "data": {
      "text/plain": [
       "'Python is an interpreted programming language, supporting object-oriented, structured, and functional programming.'"
      ]
     },
     "execution_count": 2,
     "metadata": {},
     "output_type": "execute_result"
    }
   ],
   "source": [
    "\"\"\"2. Which type of Programming does Python support?\"\"\"\n",
    "\n",
    "# Python is an interpreted programming language, supporting object-oriented, structured, and functional programming.\n",
    "'''Python is an interpreted programming language, supporting object-oriented, structured, and functional programming.'''"
   ]
  },
  {
   "cell_type": "code",
   "execution_count": 3,
   "id": "1b07a1b8-6d05-4904-a04c-941310725732",
   "metadata": {},
   "outputs": [
    {
     "data": {
      "text/plain": [
       "'Yes, Python is a case−sensitive programming language. This means that it considers uppercase and lowercase letters differently.'"
      ]
     },
     "execution_count": 3,
     "metadata": {},
     "output_type": "execute_result"
    }
   ],
   "source": [
    "\"\"\"3. Is Python case sensitive when dealing with identifiers?\"\"\"\n",
    "\n",
    "# Yes, Python is a case−sensitive programming language. This means that it considers uppercase and lowercase letters differently.\n",
    "'''Yes, Python is a case−sensitive programming language. This means that it considers uppercase and lowercase letters differently.'''"
   ]
  },
  {
   "cell_type": "code",
   "execution_count": 4,
   "id": "d589e403-3467-4705-a441-d94ee62209ee",
   "metadata": {},
   "outputs": [
    {
     "data": {
      "text/plain": [
       "'# The extensions for Python files are \". py\" & PW extension is \".ipynb\" .'"
      ]
     },
     "execution_count": 4,
     "metadata": {},
     "output_type": "execute_result"
    }
   ],
   "source": [
    "\"\"\"4. What is the correct extension of the Python file? \"\"\"\n",
    "# The extensions for Python files are \". py\" & PW extension is \".ipynb\" .\n",
    "'''# The extensions for Python files are \". py\" & PW extension is \".ipynb\" .'''"
   ]
  },
  {
   "cell_type": "code",
   "execution_count": 5,
   "id": "5832878b-27a1-4ae8-a9a9-beb867314559",
   "metadata": {},
   "outputs": [
    {
     "data": {
      "text/plain": [
       "'Python is an interpreted language,\\nwhich means the source code of a Python program is converted into bytecode that is then executed by the Python virtual machine.'"
      ]
     },
     "execution_count": 5,
     "metadata": {},
     "output_type": "execute_result"
    }
   ],
   "source": [
    "\"\"\"5. Is Python code compiled or interpreted? \"\"\"\n",
    "\n",
    "#Python is an interpreted language, which means the source code of a Python program is converted into bytecode that is then executed by the Python virtual machine.\n",
    "'''Python is an interpreted language,\n",
    "which means the source code of a Python program is converted into bytecode that is then executed by the Python virtual machine.'''"
   ]
  },
  {
   "cell_type": "code",
   "execution_count": 11,
   "id": "02b7bf0b-703c-479f-80dd-f0ea5c751499",
   "metadata": {},
   "outputs": [
    {
     "data": {
      "text/plain": [
       "' *input. \\n *output. \\n *sequential execution. \\n *conditional execution. \\n *repeated execution. \\n *reuse.'"
      ]
     },
     "execution_count": 11,
     "metadata": {},
     "output_type": "execute_result"
    }
   ],
   "source": [
    "\"\"\"6. Name a few blocks of code used to define in Python language?\"\"\"\n",
    "\n",
    "#input. ...\n",
    "#output. ...\n",
    "#sequential execution. ...\n",
    "#conditional execution. ...\n",
    "#repeated execution. ...\n",
    "#reuse.\n",
    "\n",
    "''' *input. \n",
    " *output. \n",
    " *sequential execution. \n",
    " *conditional execution. \n",
    " *repeated execution. \n",
    " *reuse.'''"
   ]
  },
  {
   "cell_type": "code",
   "execution_count": 7,
   "id": "3357d5b9-9ff1-4a12-93eb-d9cd49e94e6d",
   "metadata": {},
   "outputs": [
    {
     "data": {
      "text/plain": [
       "\"We can write a single-line comment by adding a single '#' character before any statement or line of code.\""
      ]
     },
     "execution_count": 7,
     "metadata": {},
     "output_type": "execute_result"
    }
   ],
   "source": [
    "\"\"\"7. State a character used to give single-line comments in Python? \"\"\"\n",
    "\n",
    "# We can write a single-line comment by adding a single # character before any statement or line of code.\n",
    "'''We can write a single-line comment by adding a single '#' character before any statement or line of code.'''"
   ]
  },
  {
   "cell_type": "code",
   "execution_count": 8,
   "id": "298d0b84-f379-4f31-b595-780643683fc6",
   "metadata": {},
   "outputs": [
    {
     "data": {
      "text/plain": [
       "' The function sys. version can help us to find the version of python that we are currently working on.'"
      ]
     },
     "execution_count": 8,
     "metadata": {},
     "output_type": "execute_result"
    }
   ],
   "source": [
    "\"\"\"8. Mention functions which can help us to find the version of python that we are currently working on?\"\"\"\n",
    "\n",
    "# The function sys. version can help us to find the version of python that we are currently working on.\n",
    "''' The function sys. version can help us to find the version of python that we are currently working on.'''"
   ]
  },
  {
   "cell_type": "code",
   "execution_count": 12,
   "id": "0023bccd-62e5-42c0-b627-4625445ef3ec",
   "metadata": {},
   "outputs": [
    {
     "data": {
      "text/plain": [
       "'lambda function'"
      ]
     },
     "execution_count": 12,
     "metadata": {},
     "output_type": "execute_result"
    }
   ],
   "source": [
    "\"\"\"9. Python supports the creation of anonymous functions at runtime, using a construct called ______________.\"\"\"\n",
    "\n",
    "# lambda function\n",
    "'''lambda function'''"
   ]
  },
  {
   "cell_type": "code",
   "execution_count": 13,
   "id": "3e0b31c9-f689-4d21-8d75-06f0921385bf",
   "metadata": {},
   "outputs": [
    {
     "data": {
      "text/plain": [
       "'pip Install Packages'"
      ]
     },
     "execution_count": 13,
     "metadata": {},
     "output_type": "execute_result"
    }
   ],
   "source": [
    "\"\"\"10. What does pip stand for python? \"\"\"\n",
    "\n",
    "# pip Install Packages\n",
    "'''pip Install Packages'''"
   ]
  },
  {
   "cell_type": "code",
   "execution_count": 17,
   "id": "055b35ef-cd31-40dc-bfe3-b2c48f8dee8d",
   "metadata": {},
   "outputs": [
    {
     "data": {
      "text/plain": [
       "' * print( ) function.\\n * type( ) function.\\n * input( ) function.\\n * dir( ) function.\\n * sorted( ) function.\\n * max( ) function.'"
      ]
     },
     "execution_count": 17,
     "metadata": {},
     "output_type": "execute_result"
    }
   ],
   "source": [
    "\"\"\"11. Mention a few built-in functions in python? \"\"\"\n",
    "#There 68 bulid function in that few of them :\n",
    "\n",
    "#print( ) function.\n",
    "#type( ) function.\n",
    "#input( ) function.\n",
    "#dir( ) function.\n",
    "#sorted( ) function.\n",
    "#max( ) function.\n",
    "\n",
    "''' * print( ) function.\n",
    " * type( ) function.\n",
    " * input( ) function.\n",
    " * dir( ) function.\n",
    " * sorted( ) function.\n",
    " * max( ) function.'''"
   ]
  },
  {
   "cell_type": "code",
   "execution_count": 16,
   "id": "14be5339-16c8-4aa0-aa9f-392869a5cc24",
   "metadata": {},
   "outputs": [
    {
     "data": {
      "text/plain": [
       "'An identifier can have a maximum length of 79 characters in Python.'"
      ]
     },
     "execution_count": 16,
     "metadata": {},
     "output_type": "execute_result"
    }
   ],
   "source": [
    "\"\"\"12. What is the maximum possible length of an identifier in Python? \"\"\"\n",
    "\n",
    "#An identifier can have a maximum length of 79 characters in Python.\n",
    "\"\"\"An identifier can have a maximum length of 79 characters in Python.\"\"\""
   ]
  },
  {
   "cell_type": "code",
   "execution_count": 18,
   "id": "2780e094-7528-4312-bc4c-9fd0139616a6",
   "metadata": {},
   "outputs": [
    {
     "data": {
      "text/plain": [
       "' * Data science (Ml , DL , Daata Analytic , computer vision , Big Data).\\n * Scientific and mathematical computing.\\n * Web development.\\n * Finance and trading.'"
      ]
     },
     "execution_count": 18,
     "metadata": {},
     "output_type": "execute_result"
    }
   ],
   "source": [
    "\"\"\"13. What are the benefits of using Python?\"\"\"\n",
    "\n",
    "# Data science (Ml , DL , Daata Analytic , computer vision , Big Data).\n",
    "# Scientific and mathematical computing.\n",
    "# Web development.\n",
    "# Finance and trading.\n",
    "''' * Data science (Ml , DL , Daata Analytic , computer vision , Big Data).\n",
    " * Scientific and mathematical computing.\n",
    " * Web development.\n",
    " * Finance and trading.'''"
   ]
  },
  {
   "cell_type": "code",
   "execution_count": 19,
   "id": "c991dfed-1a3f-4d91-b461-2094b167d9d0",
   "metadata": {},
   "outputs": [
    {
     "data": {
      "text/plain": [
       "\"Memory in Python is managed by Python private heap space. All Python objects and data structures are located in a private heap.\\n This private heap is taken care of by Python Interpreter itself, and a programmer doesn't have access to this private heap.\""
      ]
     },
     "execution_count": 19,
     "metadata": {},
     "output_type": "execute_result"
    }
   ],
   "source": [
    "\"\"\"14. How is memory managed in Python?\"\"\"\n",
    "\n",
    "# Memory in Python is managed by Python private heap space. All Python objects and data structures are located in a private heap. This private heap is taken care of by Python Interpreter itself, and a programmer doesn't have access to this private heap.\n",
    "'''Memory in Python is managed by Python private heap space. All Python objects and data structures are located in a private heap.\n",
    " This private heap is taken care of by Python Interpreter itself, and a programmer doesn't have access to this private heap.'''"
   ]
  },
  {
   "cell_type": "code",
   "execution_count": null,
   "id": "2a0a141f-c2ce-4153-b71c-84fdb58b732b",
   "metadata": {},
   "outputs": [],
   "source": []
  }
 ],
 "metadata": {
  "kernelspec": {
   "display_name": "Python 3 (ipykernel)",
   "language": "python",
   "name": "python3"
  },
  "language_info": {
   "codemirror_mode": {
    "name": "ipython",
    "version": 3
   },
   "file_extension": ".py",
   "mimetype": "text/x-python",
   "name": "python",
   "nbconvert_exporter": "python",
   "pygments_lexer": "ipython3",
   "version": "3.10.8"
  }
 },
 "nbformat": 4,
 "nbformat_minor": 5
}
