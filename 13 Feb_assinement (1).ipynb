{
 "cells": [
  {
   "cell_type": "code",
   "execution_count": null,
   "id": "8ae16123-a7af-4c10-b8da-b6008bc597b1",
   "metadata": {},
   "outputs": [],
   "source": [
    "\"\"\"Q1. Explain why we have to use the Exception class while creating a Custom Exception.\"\"\"\n",
    "\n",
    "#When creating a custom exception in a programming language, it is recommended to derive your custom exception class from the built-in Exception class or its appropriate subclass. \n",
    "#using the Exception class as the base for your custom exception ensures consistency, leverages existing exception handling mechanisms, facilitates interoperability, and enhances code readability and maintainability."
   ]
  },
  {
   "cell_type": "code",
   "execution_count": 5,
   "id": "f88535a5-b51e-4736-b355-ccbfd9725ef8",
   "metadata": {},
   "outputs": [
    {
     "name": "stdout",
     "output_type": "stream",
     "text": [
      "ZeroDivisionError\n",
      "None\n",
      "can't concantenate 'int' and 'str' \n",
      "None\n",
      " 'str' is cannot be converted to 'int' \n",
      "None\n"
     ]
    }
   ],
   "source": [
    "\"\"\"Q2. Write a python program to print Python Exception Hierarchy.\"\"\"\n",
    "class class1:\n",
    "    def test1(self):\n",
    "        a=10\n",
    "        b=0\n",
    "        try:\n",
    "            print(a/b)\n",
    "        except:\n",
    "            print(\"ZeroDivisionError\")\n",
    "class class2(class1):\n",
    "    def test2(self):\n",
    "        a=\"data\"\n",
    "        b=8\n",
    "        try:\n",
    "            print(a+b)\n",
    "        except:\n",
    "            print(\"can't concantenate 'int' and 'str' \")\n",
    "class class3(class1):\n",
    "    def test3(self):\n",
    "        try:\n",
    "            int(\"sai\")\n",
    "        except:\n",
    "            print(\" 'str' is cannot be converted to 'int' \")\n",
    "obj1=class2()\n",
    "print(obj1.test1())\n",
    "print(obj1.test2())\n",
    "obj2=class3()\n",
    "print(obj2.test3())\n"
   ]
  },
  {
   "cell_type": "code",
   "execution_count": 10,
   "id": "f4ba40e5-c173-4191-ae45-6b3de7bb6965",
   "metadata": {},
   "outputs": [
    {
     "name": "stdout",
     "output_type": "stream",
     "text": [
      "division by zero\n"
     ]
    }
   ],
   "source": [
    "\"\"\"Q3. What errors are defined in the ArithmeticError class? Explain any two with an example.\"\"\"\n",
    "\n",
    "#The errors that are defined in the ArithmeticError class are :\n",
    "#1.ZeroDivisionError\n",
    "#2.OverFlowError\n",
    "\n",
    "# 1. ZeroDivisionError:\n",
    "#Example:\n",
    "a=8\n",
    "b=0\n",
    "try:\n",
    "    print(a/b)\n",
    "except ZeroDivisionError as e:\n",
    "    print(e)"
   ]
  },
  {
   "cell_type": "code",
   "execution_count": 16,
   "id": "d55e19ad-f3b0-43e5-8557-3cd95518c7a9",
   "metadata": {},
   "outputs": [
    {
     "name": "stdout",
     "output_type": "stream",
     "text": [
      "The result is: 10715086071862673209484250490600018105614048117055336074437503883703510511249361224931983788156958581275946729175531468251871452856923140435984577574698574803934567774824230985421074605062371141877954182153046474983581941267398767559165543946077062914571196477686542167660429831652624386837205668069376\n"
     ]
    }
   ],
   "source": [
    "# 2.OverFlowError:\n",
    "#Example:\n",
    "def calculate_large_number():\n",
    "    try:\n",
    "        large_number = 2 ** 1000\n",
    "        print(\"The result is:\", large_number)\n",
    "    except OverflowError:\n",
    "        print(\"Error: The result exceeds the range of representable values.\")\n",
    "calculate_large_number()"
   ]
  },
  {
   "cell_type": "code",
   "execution_count": 18,
   "id": "d0b65ca7-5977-4428-b47a-83bea084cfd6",
   "metadata": {},
   "outputs": [
    {
     "name": "stdout",
     "output_type": "stream",
     "text": [
      "'college batch'\n",
      "list index out of range\n"
     ]
    }
   ],
   "source": [
    "\"\"\"Q4. Why LookupError class is used? Explain with an example KeyError and IndexError.\"\"\"\n",
    "\n",
    "#The LookupError class is used to provide a common base for exceptions that occur during lookup or indexing operations. It allows for consistent error handling, categorization of specific lookup failures, and compatibility with libraries and frameworks. By using LookupError as the base class, developers can handle and differentiate lookup-related exceptions in a standardized and organized manner.\n",
    "\n",
    "#example of KeyError:\n",
    "college_gang={'Sai asish':417,'Sneha':381,'Hiran':431,'Avinash':461}\n",
    "try:\n",
    "    print(college_gang['college batch'])\n",
    "except KeyError as e:\n",
    "    print(e)\n",
    "    \n",
    "#Example of IndexError:\n",
    "roll_no=[417,381,431,461,465,404,400]\n",
    "try:\n",
    "    print(roll_no[500])\n",
    "except IndexError as r:\n",
    "    print(r)"
   ]
  },
  {
   "cell_type": "code",
   "execution_count": 1,
   "id": "2d1fde29-e8c2-4e70-bb41-1ca32d29d3cd",
   "metadata": {},
   "outputs": [
    {
     "name": "stdout",
     "output_type": "stream",
     "text": [
      "No module named 'hello'\n"
     ]
    }
   ],
   "source": [
    "\"\"\"Q5. Explain ImportError. What is ModuleNotFoundError?\"\"\"\n",
    "# ImportError:\n",
    "    # An ImportError is a specific type of error that occurs when a module or package cannot be imported in Python. It usually indicates that there was a problem locating or loading the desired module or package.\n",
    "# ModuleNotFoundError:\n",
    "    # ModuleNotFoundError is a specific type of error in Python that occurs when a module or package cannot be found or imported. It is similar to the ImportError, but it specifically indicates that the module or package being imported could not be located.\n",
    "# Example:\n",
    "try:\n",
    "    import hello\n",
    "except ImportError as e:\n",
    "    print(e)"
   ]
  },
  {
   "cell_type": "code",
   "execution_count": 4,
   "id": "0652d957-7cc9-47fa-b29b-da796eb8bf77",
   "metadata": {},
   "outputs": [
    {
     "name": "stdout",
     "output_type": "stream",
     "text": [
      "3.0\n",
      "Else : This will works when try block is True\n"
     ]
    }
   ],
   "source": [
    "\"\"\"Q6. List down some best practices for exception handling in python.\"\"\"\n",
    "\n",
    "# 1. handling try,except,and else in this way:\n",
    "a=9\n",
    "b=3\n",
    "try:\n",
    "    print(a/b)\n",
    "except ZeroDivisionError as e:\n",
    "    print(e)\n",
    "else:\n",
    "    print(\"Else : This will works when try block is True\")"
   ]
  },
  {
   "cell_type": "code",
   "execution_count": 5,
   "id": "14401e3f-77b8-4395-87b5-5f0d6605e98d",
   "metadata": {},
   "outputs": [
    {
     "name": "stdout",
     "output_type": "stream",
     "text": [
      "can't concantenate 'str' and 'int' \n",
      "Finally : This will works when try is True or else it will False also\n"
     ]
    }
   ],
   "source": [
    "# 2.handling try,except and finally in this way:\n",
    "name=\"hello\"\n",
    "integer=0\n",
    "try:\n",
    "    print(name+integer)\n",
    "except:\n",
    "    print(\"can't concantenate 'str' and 'int' \")\n",
    "finally:\n",
    "    print(\"Finally : This will works when try is True or else it will False also\")"
   ]
  }
 ],
 "metadata": {
  "kernelspec": {
   "display_name": "Python 3 (ipykernel)",
   "language": "python",
   "name": "python3"
  },
  "language_info": {
   "codemirror_mode": {
    "name": "ipython",
    "version": 3
   },
   "file_extension": ".py",
   "mimetype": "text/x-python",
   "name": "python",
   "nbconvert_exporter": "python",
   "pygments_lexer": "ipython3",
   "version": "3.10.8"
  }
 },
 "nbformat": 4,
 "nbformat_minor": 5
}
