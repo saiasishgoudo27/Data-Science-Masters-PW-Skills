{
 "cells": [
  {
   "cell_type": "code",
   "execution_count": 10,
   "id": "eb5fe5f1-fdf8-473d-a00e-4ae41df304a5",
   "metadata": {},
   "outputs": [
    {
     "name": "stdout",
     "output_type": "stream",
     "text": [
      "('rolls-royce', '301kmph', 150)\n"
     ]
    }
   ],
   "source": [
    "\"\"\"Q1, Create a vehicle class with an init method having instance variables as name_of_vehicle, max_speed\n",
    "and average_of_vehicle.\"\"\"\n",
    "class vehicle:\n",
    "    def __init__(self,name_of_vehicle,max_speed,average_of_vehicle):\n",
    "        self.name_of_vehicle=name_of_vehicle\n",
    "        self.max_speed=max_speed\n",
    "        self.average_of_vehicle=average_of_vehicle\n",
    "    def vehicle_info(self):\n",
    "        return self.name_of_vehicle,self.max_speed,self.average_of_vehicle\n",
    "sai=vehicle(\"rolls-royce\",\"301kmph\",150)\n",
    "print(sai.vehicle_info())"
   ]
  },
  {
   "cell_type": "code",
   "execution_count": 11,
   "id": "e99dfe9c-7f29-43e1-8542-d598a22df9d2",
   "metadata": {},
   "outputs": [
    {
     "name": "stdout",
     "output_type": "stream",
     "text": [
      "rolls-royce\n"
     ]
    }
   ],
   "source": [
    "print(sai.name_of_vehicle)"
   ]
  },
  {
   "cell_type": "code",
   "execution_count": 12,
   "id": "cfe0f262-33bd-4a84-8c0f-7cfa91b6d06c",
   "metadata": {},
   "outputs": [
    {
     "name": "stdout",
     "output_type": "stream",
     "text": [
      "301kmph\n",
      "150\n"
     ]
    }
   ],
   "source": [
    "print(sai.max_speed)\n",
    "print(sai.average_of_vehicle)"
   ]
  },
  {
   "cell_type": "code",
   "execution_count": 17,
   "id": "155cb1a1-06a4-4c30-baa1-c9217a8b3897",
   "metadata": {},
   "outputs": [
    {
     "data": {
      "text/plain": [
       "('range_rover', 5)"
      ]
     },
     "execution_count": 17,
     "metadata": {},
     "output_type": "execute_result"
    }
   ],
   "source": [
    "\"\"\"Q2. Create a child class car from the vehicle class created in Que 1, which will inherit the vehicle class.\n",
    "Create a method named seating_capacity which takes capacity as an argument and returns the name of\n",
    "the vehicle and its seating capacity.\"\"\"\n",
    "class vehicle:\n",
    "    def __init__(self,name_of_the_vehicle):\n",
    "        self.name_of_the_vehicle=name_of_the_vehicle\n",
    "class car(vehicle):\n",
    "    def seating_capacity(self,capacity):\n",
    "        return self.name_of_the_vehicle,capacity\n",
    "car(\"range_rover\").seating_capacity(5)"
   ]
  },
  {
   "cell_type": "code",
   "execution_count": 18,
   "id": "13e56f1d-ea1d-4fb2-b8f9-3e0c40eca28c",
   "metadata": {},
   "outputs": [
    {
     "name": "stdout",
     "output_type": "stream",
     "text": [
      "i am elder one than all of my brother's\n"
     ]
    }
   ],
   "source": [
    "\"\"\"Q3. What is multiple inheritance? Write a python code to demonstrate multiple inheritance.\"\"\"\n",
    "# When a class is derived from more than one base class it is called multiple Inheritance.\n",
    "# The derived class inherits all the features of the base case.\n",
    "\n",
    "#python code to demonstrate mutiple inheritance:\n",
    "\n",
    "class elder_brother:\n",
    "    def head_1(self):\n",
    "        return \"i am elder one than all of my brother's\"\n",
    "class middle_brother(elder_brother):\n",
    "    def head_2(self):\n",
    "        return \"i am elder than my little brother \"\n",
    "class little_one(middle_brother):\n",
    "    def head_3(self):\n",
    "        return \"i am smaller one than all of my brother's\"\n",
    "obj=little_one()\n",
    "print(obj.head_1())"
   ]
  },
  {
   "cell_type": "code",
   "execution_count": 19,
   "id": "133522bd-f3f9-452c-aded-022b32acc11d",
   "metadata": {},
   "outputs": [
    {
     "data": {
      "text/plain": [
       "'i am elder than my little brother '"
      ]
     },
     "execution_count": 19,
     "metadata": {},
     "output_type": "execute_result"
    }
   ],
   "source": [
    "obj.head_2()"
   ]
  },
  {
   "cell_type": "code",
   "execution_count": 20,
   "id": "69c6ad84-a288-464d-bf37-66fffaeda412",
   "metadata": {},
   "outputs": [
    {
     "data": {
      "text/plain": [
       "\"i am smaller one than all of my brother's\""
      ]
     },
     "execution_count": 20,
     "metadata": {},
     "output_type": "execute_result"
    }
   ],
   "source": [
    "obj.head_3()"
   ]
  },
  {
   "cell_type": "code",
   "execution_count": 26,
   "id": "22a011bc-74db-4b26-88b9-8622a91ae273",
   "metadata": {},
   "outputs": [
    {
     "name": "stdout",
     "output_type": "stream",
     "text": [
      "118000\n",
      "250000\n"
     ]
    }
   ],
   "source": [
    "\"\"\"Q4. What are getter and setter in python? Create a class and create a getter and a setter method in this\n",
    "class.\"\"\"\n",
    "\n",
    "# Getter: A method that allows you to access an attribute in a given class.\n",
    "# Setter: A method that allows you to set or mutate the value of an attribute in a class.\n",
    "\n",
    "class college:\n",
    "    def __init__(self,college_fees):\n",
    "        self._college_fees=college_fees\n",
    "    @property\n",
    "    def college_fees(self):\n",
    "        return self._college_fees\n",
    "    @college_fees.setter\n",
    "    def college_fees(self,fees):\n",
    "        if fees<=120000:\n",
    "            pass\n",
    "        else:\n",
    "            self._college_fees=fees\n",
    "student=college(118000)\n",
    "print(student.college_fees)\n",
    "student.college_fees=250000\n",
    "print(student.college_fees)"
   ]
  },
  {
   "cell_type": "code",
   "execution_count": 22,
   "id": "ecb03fb1-8e5b-4498-9c7d-b43bf90cc17c",
   "metadata": {},
   "outputs": [
    {
     "name": "stdout",
     "output_type": "stream",
     "text": [
      "first bencher of the class\n",
      "last bencher of the class\n"
     ]
    }
   ],
   "source": [
    "\"\"\"Q5.What is method overriding in python? Write a python code to demonstrate method overriding.\"\"\"\n",
    "# when you have two methods with the same name that each perform different tasks.\n",
    "# In method overriding, the child class can change its functions that are defined by its ancestral classes.\n",
    "\n",
    "#python code to demonstrate method overriding:\n",
    "\n",
    "class school:\n",
    "    def student(self):\n",
    "        return \"first bencher of the class\"\n",
    "class college:\n",
    "    def student(self):\n",
    "        return \"last bencher of the class\"\n",
    "school_life=school()\n",
    "print(school_life.student())\n",
    "\n",
    "college_life=college()\n",
    "print(college_life.student())\n",
    "\n",
    "#here,student is overriding"
   ]
  },
  {
   "cell_type": "code",
   "execution_count": null,
   "id": "89d8f21b-7b4a-4b9c-8a6f-25832b394786",
   "metadata": {},
   "outputs": [],
   "source": []
  }
 ],
 "metadata": {
  "kernelspec": {
   "display_name": "Python 3 (ipykernel)",
   "language": "python",
   "name": "python3"
  },
  "language_info": {
   "codemirror_mode": {
    "name": "ipython",
    "version": 3
   },
   "file_extension": ".py",
   "mimetype": "text/x-python",
   "name": "python",
   "nbconvert_exporter": "python",
   "pygments_lexer": "ipython3",
   "version": "3.10.8"
  }
 },
 "nbformat": 4,
 "nbformat_minor": 5
}
