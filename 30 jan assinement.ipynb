{
 "cells": [
  {
   "cell_type": "code",
   "execution_count": 1,
   "id": "95b20fe6-299a-48ec-8425-9555e70300ad",
   "metadata": {},
   "outputs": [
    {
     "name": "stdin",
     "output_type": "stream",
     "text": [
      "enter an secured percentage :  95\n"
     ]
    },
    {
     "name": "stdout",
     "output_type": "stream",
     "text": [
      "A GRADE\n"
     ]
    }
   ],
   "source": [
    "\"\"\"1.write a program to accept percentage from user and display the grade according to the following criteria :\n",
    "\n",
    "marks              grade\n",
    "\n",
    ">90                 A\n",
    ">80 and <=90        B\n",
    ">=60 and <=80       C\n",
    "below 60            D \"\"\"\n",
    "\n",
    "percentage=int(input(\"enter an secured percentage : \"));\n",
    "if(percentage>90):\n",
    "    print(\"A GRADE\");\n",
    "elif(percentage>80 and percentage<=90):\n",
    "    print(\"B GRADE\");\n",
    "elif(percentage>=60 and percentage<=80):\n",
    "    print(\"C GRADE\");\n",
    "else:\n",
    "    print(\"D GRADE\");\n",
    "    "
   ]
  },
  {
   "cell_type": "code",
   "execution_count": 2,
   "id": "fdcd4c55-0b21-4f4d-ba9f-b0c1d1bedb95",
   "metadata": {},
   "outputs": [
    {
     "name": "stdin",
     "output_type": "stream",
     "text": [
      "enter an cost price of a bike :  250000\n"
     ]
    },
    {
     "name": "stdout",
     "output_type": "stream",
     "text": [
      "tax is 15%\n"
     ]
    }
   ],
   "source": [
    "\"\"\"2. Write a program to accept the cost price of a bike and display the road tax to be paid according to the \n",
    "following criteria: \n",
    "\n",
    "Tax       Cost Price(in Rs) \n",
    "15%         >100000 \n",
    "10%         >50000 and <= 100000 \n",
    "5%          <= 50000 \"\"\" \n",
    "\n",
    "cost=int(input(\"enter an cost price of a bike : \"));\n",
    "if(cost>100000):\n",
    "    print(\"tax is 15%\");\n",
    "elif(cost>50000 and cost<=100000):\n",
    "    print(\"tax is 10%\");\n",
    "else:\n",
    "    print(\"tax is 5%\");\n"
   ]
  },
  {
   "cell_type": "code",
   "execution_count": 5,
   "id": "02a442ff-d0f2-45d4-bd37-ab551f6e7eed",
   "metadata": {},
   "outputs": [
    {
     "name": "stdin",
     "output_type": "stream",
     "text": [
      "enter an city of the following above details :  agra\n"
     ]
    },
    {
     "name": "stdout",
     "output_type": "stream",
     "text": [
      "MONUMENT : taj mahal\n"
     ]
    }
   ],
   "source": [
    "\"\"\"3. Accept any city from the user and display monuments of that city. \n",
    "\n",
    "CITY           MONUMENT\n",
    "\n",
    "delhi          red fort\n",
    "agra           taj mahal\n",
    "jaipur         jal mahal  \"\"\"\n",
    "\n",
    "city=str(input(\"enter an city of the following above details : \"));\n",
    "if(city==\"delhi\"):\n",
    "    print(\"MONUMENT : red fort\");\n",
    "elif(city==\"agra\"):\n",
    "    print(\"MONUMENT : taj mahal\");\n",
    "elif(city==\"jaipur\"):\n",
    "    print(\"MONUMENT : jal mahal\");\n",
    "else:\n",
    "    print(\"invalid input\");\n"
   ]
  },
  {
   "cell_type": "code",
   "execution_count": 10,
   "id": "5049101f-cb69-41ed-b5f7-c9d7a987b7cd",
   "metadata": {},
   "outputs": [
    {
     "name": "stdin",
     "output_type": "stream",
     "text": [
      "Enter a Number:  729\n"
     ]
    },
    {
     "name": "stdout",
     "output_type": "stream",
     "text": [
      "4\n"
     ]
    }
   ],
   "source": [
    "\"\"\"4. Check how many times a given number can be divided by 3 before it is less than or equal to 10. \"\"\" \n",
    "\n",
    "n = int(input(\"Enter a Number: \"))\n",
    "c = 0\n",
    "while(n > 10):\n",
    "    if n % 3 == 0:\n",
    "        c = c + 1\n",
    "    n = n//3\n",
    "print(c)"
   ]
  },
  {
   "cell_type": "code",
   "execution_count": 3,
   "id": "d9bef80f-3a56-4f51-95cf-2f2ad79a4587",
   "metadata": {},
   "outputs": [
    {
     "name": "stdin",
     "output_type": "stream",
     "text": [
      "enter an number 5\n"
     ]
    },
    {
     "name": "stdout",
     "output_type": "stream",
     "text": [
      "sum of the numbers:  15\n"
     ]
    }
   ],
   "source": [
    "\"\"\"5. Why and When to Use while Loop in Python give a detailed description with example\"\"\"\n",
    "\n",
    "# Python While Loop is used to execute a block of statements repeatedly until a given condition is satisfied.\n",
    "# And when the condition becomes false, the line immediately after the loop in the program is executed.\n",
    "# Evaluate a test condition and iterate over the loop body until the condition returns True.\n",
    "\n",
    "# program to calculate the sum of numbers\n",
    "# until the user enters zero.\n",
    "\n",
    "sum=0;\n",
    "n=int(input(\"enter an number\"));\n",
    "i=1;\n",
    "while(i<=n):\n",
    "    sum=sum+i;\n",
    "    i=i+1;\n",
    "print(\"sum of the numbers: \",sum);\n"
   ]
  },
  {
   "cell_type": "code",
   "execution_count": 8,
   "id": "86bd3ff9-16b2-4796-8d66-6ebc140a9762",
   "metadata": {},
   "outputs": [
    {
     "name": "stdout",
     "output_type": "stream",
     "text": [
      "pattern-1\n",
      "* \n",
      "* * \n",
      "* * * \n",
      "* * * * \n",
      "* * * * * \n"
     ]
    }
   ],
   "source": [
    "\"\"\"6. Use nested while loop to print 3 different pattern. \"\"\"\n",
    "\n",
    "print(\"pattern-1\");\n",
    "i=1;\n",
    "while(i<=5):\n",
    "    j=1;\n",
    "    while(j<=i):\n",
    "        print(\"*\",end=\" \");\n",
    "        j=j+1;\n",
    "    print();\n",
    "    i=i+1;"
   ]
  },
  {
   "cell_type": "code",
   "execution_count": 3,
   "id": "873257f9-bd5a-412b-aa3b-eafb18036dac",
   "metadata": {},
   "outputs": [
    {
     "name": "stdout",
     "output_type": "stream",
     "text": [
      "pattern-2\n",
      "* * * * * \n",
      "* * * * \n",
      "* * * \n",
      "* * \n",
      "* \n"
     ]
    }
   ],
   "source": [
    "print(\"pattern-2\");\n",
    "i=1;\n",
    "while(i<=5):\n",
    "    j=5;\n",
    "    while(j>=i):\n",
    "        print(\"*\",end=\" \");\n",
    "        j=j-1;\n",
    "    print();\n",
    "    i=i+1;"
   ]
  },
  {
   "cell_type": "code",
   "execution_count": 2,
   "id": "63b73ac3-633d-46cb-8091-7740176fbc06",
   "metadata": {},
   "outputs": [
    {
     "name": "stdout",
     "output_type": "stream",
     "text": [
      "pattern-3\n"
     ]
    },
    {
     "name": "stdin",
     "output_type": "stream",
     "text": [
      "enter an number 5\n"
     ]
    },
    {
     "name": "stdout",
     "output_type": "stream",
     "text": [
      "     \n",
      "    *\n",
      "   **\n",
      "  ***\n",
      " ****\n",
      "*****\n"
     ]
    }
   ],
   "source": [
    "print(\"pattern-3\")\n",
    "n=int(input(\"enter an number\"))\n",
    "i=0\n",
    "while(i<=n):\n",
    "      print(\" \" * (n-i)+\"*\" * i)\n",
    "      i=i+1;\n"
   ]
  },
  {
   "cell_type": "code",
   "execution_count": 2,
   "id": "43d81ca4-12eb-4096-ac50-21b34e787b3f",
   "metadata": {},
   "outputs": [
    {
     "name": "stdout",
     "output_type": "stream",
     "text": [
      "10\n",
      "9\n",
      "8\n",
      "7\n",
      "6\n",
      "5\n",
      "4\n",
      "3\n",
      "2\n",
      "1\n"
     ]
    }
   ],
   "source": [
    "\"\"\"7. Reverse a while loop to display numbers from 10 to 1. \"\"\"\n",
    "i=10\n",
    "while(i>=1):\n",
    "    print(i)\n",
    "    i=i-1"
   ]
  },
  {
   "cell_type": "code",
   "execution_count": 3,
   "id": "996fa3d5-e7ea-4ad7-95fa-dd67ad58c27b",
   "metadata": {},
   "outputs": [
    {
     "name": "stdout",
     "output_type": "stream",
     "text": [
      "10\n",
      "9\n",
      "8\n",
      "7\n",
      "6\n",
      "5\n",
      "4\n",
      "3\n",
      "2\n",
      "1\n"
     ]
    }
   ],
   "source": [
    "\"\"\"8. Reverse a while loop to display numbers from 10 to 1. \"\"\"\n",
    "i=10\n",
    "while(i>=1):\n",
    "    print(i)\n",
    "    i=i-1"
   ]
  },
  {
   "cell_type": "code",
   "execution_count": null,
   "id": "e540c252-950a-4332-a561-cc017969c6ac",
   "metadata": {},
   "outputs": [],
   "source": []
  }
 ],
 "metadata": {
  "kernelspec": {
   "display_name": "Python 3 (ipykernel)",
   "language": "python",
   "name": "python3"
  },
  "language_info": {
   "codemirror_mode": {
    "name": "ipython",
    "version": 3
   },
   "file_extension": ".py",
   "mimetype": "text/x-python",
   "name": "python",
   "nbconvert_exporter": "python",
   "pygments_lexer": "ipython3",
   "version": "3.10.8"
  }
 },
 "nbformat": 4,
 "nbformat_minor": 5
}
