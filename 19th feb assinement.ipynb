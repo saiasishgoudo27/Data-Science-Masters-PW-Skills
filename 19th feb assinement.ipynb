{
 "cells": [
  {
   "cell_type": "code",
   "execution_count": null,
   "id": "8260098d-ed44-40cc-b050-02c84e275b2c",
   "metadata": {},
   "outputs": [],
   "source": [
    "\"\"\"Q1. What is Flask Framework? What are the advantages of Flask Framework?\"\"\"\n",
    "Ans:\n",
    "    Flask Framework:\n",
    "        A python library for developing Web applications.\n",
    "    Advantages of flask framework:\n",
    "        1.Lightweight and Minimalistic: Flask is designed to be a lightweight framework with a minimalistic core. It provides only the essential features needed for web development, allowing developers to have more control and flexibility in designing their applications. \n",
    "        2.Easy to Learn and Use: Flask has a straightforward and intuitive API, making it easy to learn and use. Its syntax is clean and readable, making it ideal for beginners and experienced developers alike.\n",
    "        3.Extensible and Flexible: Flask follows a modular design philosophy, which means it can be easily extended with additional functionality using Flask extensions or third-party libraries. \n",
    "        4.Python Integration: As a Python web framework, Flask leverages the power and simplicity of the Python programming language.\n",
    "        5.Versatile Routing: Flask provides a robust routing system that allows developers to map URLs to specific functions or views in their application.\n",
    "        6.Versatile Routing: Flask provides a robust routing system that allows developers to map URLs to specific functions or views in their application.\n",
    "        7.Large and Active Community: Flask has a large and active community of developers, which means there are ample resources, tutorials, and community support available. "
   ]
  },
  {
   "cell_type": "code",
   "execution_count": null,
   "id": "75672416-7de2-4104-88c2-3843f79a922a",
   "metadata": {},
   "outputs": [],
   "source": [
    "\"\"\"Q2. Create a simple Flask application to display ‘Hello World!!’. Attach the screenshot of the output in\n",
    "Jupyter Notebook.\"\"\"\n",
    "\n",
    "from flask import Flask\n",
    "\n",
    "app = Flask(__name__)\n",
    "\n",
    "@app.route(\"/hello world\")\n",
    "def hello_world():\n",
    "    return \"<h1>Hello, World!</h1>\"\n",
    "\n",
    "if __name__==\"__main__\":\n",
    "    app.run(host=\"0.0.0.0\")\n",
    "\n",
    "Then you open new browser url copy the >https://lemon-florist-qqxts.pwskills.app:5000/hello%20world\n",
    "\n",
    "Output:\n",
    "    Hello, World!"
   ]
  },
  {
   "cell_type": "code",
   "execution_count": null,
   "id": "40825a04-0c18-477b-88e2-e73e4febe2f2",
   "metadata": {},
   "outputs": [],
   "source": [
    "\"\"\"Q3. What is App routing in Flask? Why do we use app routes?\"\"\"\n",
    "Ans:\n",
    "    App routing in Flask:\n",
    "        it is process of mapping URLs to Python functions in a Flask application.\n",
    "    Use of app routes:\n",
    "        app routes in Flask are used to define the URL structure, handle different HTTP methods, organize code based on endpoints, execute appropriate view functions, handle URL variables/parameters, and generate URLs within the application. They play a vital role in defining the behavior and functionality of a Flask web application.        "
   ]
  },
  {
   "cell_type": "code",
   "execution_count": null,
   "id": "c5367033-b4d1-4d18-888e-27c2ec06892e",
   "metadata": {},
   "outputs": [],
   "source": [
    "\"\"\"Q4. Create a “/welcome” route to display the welcome message “Welcome to ABC Corporation” and a “/”\n",
    "route to show the following details:\n",
    "Company Name: ABC Corporation\n",
    "Location: India\n",
    "Contact Detail: 999-999-9999 \"\"\"\n",
    "\n",
    "from flask import Flask\n",
    "\n",
    "app = Flask(__name__)\n",
    "\n",
    "@app.route(\"/welcome\")\n",
    "def welcome():\n",
    "    return \"Welcome to ABC Corporation\"\n",
    "\n",
    "if __name__==\"__main__\":\n",
    "    app.run(host=\"0.0.0.0\")\n",
    "\n",
    "Then you open new browser url copy the > https://lemon-florist-qqxts.pwskills.app:5000/welcome\n",
    "\n",
    "Output:\n",
    "    Welcome to ABC Corporation"
   ]
  },
  {
   "cell_type": "code",
   "execution_count": null,
   "id": "d981b57f-ad5f-4438-9cd7-70ee0ae5e3f8",
   "metadata": {},
   "outputs": [],
   "source": [
    "from flask import Flask\n",
    "\n",
    "app = Flask(__name__)\n",
    "\n",
    "@app.route(\"/\")\n",
    "def info():\n",
    "    return \"\"\" Company Name: ABC Corporation\n",
    "                <br>Location: India\n",
    "                <br>Contact Detail: 999-999-9999 \"\"\"\n",
    "\n",
    "if __name__==\"__main__\":\n",
    "    app.run(host=\"0.0.0.0\")\n",
    "\n",
    "Then you open new browser url copy the > https://lemon-florist-qqxts.pwskills.app:5000\n",
    "\n",
    "Output:\n",
    "    Company Name: ABC Corporation\n",
    "    Location: India\n",
    "    Contact Detail: 999-999-9999"
   ]
  },
  {
   "cell_type": "code",
   "execution_count": null,
   "id": "3d7a65f9-2244-4137-aa47-c2b17928625d",
   "metadata": {},
   "outputs": [],
   "source": [
    "\"\"\"Q5. What function is used in Flask for URL Building? Write a Python code to demonstrate the working of the\n",
    "        url_for() function.\"\"\"\n",
    "Ans.\n",
    "    In Flask, the \"url_for()\" function is used for URL building.\n",
    "    \n",
    "from flask import Flask, url_for\n",
    "\n",
    "app = Flask(__name__)\n",
    "\n",
    "@app.route('/')\n",
    "def home():\n",
    "    return 'Welcome to the Home Page'\n",
    "\n",
    "@app.route('/about')\n",
    "def about():\n",
    "    return 'This is the About Page'\n",
    "\n",
    "if __name__ == '__main__':\n",
    "    with app.test_request_context():\n",
    "        \n",
    "        home_url = url_for('home')\n",
    "        about_url = url_for('about')\n",
    "\n",
    "        print(\"Home URL:\", home_url)\n",
    "        print(\"About URL:\", about_url)"
   ]
  }
 ],
 "metadata": {
  "kernelspec": {
   "display_name": "Python 3 (ipykernel)",
   "language": "python",
   "name": "python3"
  },
  "language_info": {
   "codemirror_mode": {
    "name": "ipython",
    "version": 3
   },
   "file_extension": ".py",
   "mimetype": "text/x-python",
   "name": "python",
   "nbconvert_exporter": "python",
   "pygments_lexer": "ipython3",
   "version": "3.10.8"
  }
 },
 "nbformat": 4,
 "nbformat_minor": 5
}
