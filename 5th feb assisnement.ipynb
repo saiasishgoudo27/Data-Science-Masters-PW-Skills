{
 "cells": [
  {
   "cell_type": "code",
   "execution_count": 3,
   "id": "9ea52c73-4507-4224-ad9e-681c81e2027d",
   "metadata": {},
   "outputs": [
    {
     "data": {
      "text/plain": [
       "'welcome to data science masters class'"
      ]
     },
     "execution_count": 3,
     "metadata": {},
     "output_type": "execute_result"
    }
   ],
   "source": [
    "\"\"\"Q1. Explain Class and Object with respect to Object-Oriented Programming. Give a suitable example.\"\"\"\n",
    "# according to Object-oriented programming,\n",
    "\n",
    "# A class is a blueprint or template for creating a object..\n",
    "# while a object is a instance of a class..\n",
    "\n",
    "#example,\n",
    "\n",
    "class pwskills:\n",
    "    def dsm(self):\n",
    "        return \"welcome to data science masters class\"\n",
    "sai=pwskills()\n",
    "sai.dsm()\n"
   ]
  },
  {
   "cell_type": "code",
   "execution_count": 6,
   "id": "3cf56b77-85c8-4e76-ae39-68e2e450613e",
   "metadata": {},
   "outputs": [],
   "source": [
    "\"\"\"Q2. Name the four pillars of OOPs.\"\"\"\n",
    "The four pillars of OOPs are :\n",
    "    1.polymorphism\n",
    "    2.encapsulation\n",
    "    3.inherientence\n",
    "    4.abstraction    "
   ]
  },
  {
   "cell_type": "code",
   "execution_count": 7,
   "id": "a5bb2ad3-34b8-49d4-86e8-3c1221dbdaec",
   "metadata": {},
   "outputs": [
    {
     "data": {
      "text/plain": [
       "('white', 'rangeover', 2023)"
      ]
     },
     "execution_count": 7,
     "metadata": {},
     "output_type": "execute_result"
    }
   ],
   "source": [
    "\"\"\"Q3. Explain why the __init__() function is used. Give a suitable example.\"\"\"\n",
    "#explantion :\n",
    "\n",
    " #in object oriented programming(OOP),the '__init__' function is a special method used to initilaize the object's attributes when an object is created from class.it is called automatically when the object is instanitiated, and allows you to pass in arguments to set initial values of the object\"s attributes\n",
    "    \n",
    "#example,\n",
    "\n",
    "class car:\n",
    "    def __init__(self,colour,model,year):\n",
    "        self.colour=colour\n",
    "        self.model=model\n",
    "        self.year=year\n",
    "    def get_info(self):\n",
    "        return self.colour,self.model,self.year\n",
    "my_car=car(\"white\",\"rangeover\",2023)\n",
    "my_car.get_info()"
   ]
  },
  {
   "cell_type": "code",
   "execution_count": null,
   "id": "0d758691-f404-43ef-b4cb-b4021a534476",
   "metadata": {},
   "outputs": [],
   "source": [
    "\"\"\"Q4. Why self is used in OOPs?\"\"\"\n",
    "In object_oriented_programming 'self' is a keyword used to refer to the current instance of the classes.it is used to access and modify the attributes and methods of an object from within the class, as well as from outside the class.\n"
   ]
  },
  {
   "cell_type": "code",
   "execution_count": 12,
   "id": "711f4cc2-88bf-49fa-aec3-bffb3d84fc28",
   "metadata": {},
   "outputs": [
    {
     "name": "stdout",
     "output_type": "stream",
     "text": [
      "this is my first class\n"
     ]
    },
    {
     "data": {
      "text/plain": [
       "'this is my second class'"
      ]
     },
     "execution_count": 12,
     "metadata": {},
     "output_type": "execute_result"
    }
   ],
   "source": [
    "\"\"\"Q5. What is inheritance? Give an example for each type of inheritance.\"\"\"\n",
    "#in Object oriented programming,inheritance is a mechanism that allows you to define a new class based on an existing class.\n",
    "#types of inheritance,\n",
    "#1.multi-label inheritance\n",
    "#2.multiple inherientance\n",
    "\n",
    "# Example for multi-label inheritance,\n",
    "\n",
    "class class_1:\n",
    "    def class_test_1(self):\n",
    "        return \"this is my first class\"\n",
    "class class_2(class_1):\n",
    "    def class_test_2(self):\n",
    "        return \"this is my second class\"\n",
    "class class_3(class_2):\n",
    "    pass\n",
    "class_3_obj=class_3()\n",
    "print(class_3_obj.class_test_1())\n",
    "class_3_obj.class_test_2()"
   ]
  },
  {
   "cell_type": "code",
   "execution_count": 13,
   "id": "d8b18972-97fb-4fdd-b482-ea94ead986a4",
   "metadata": {},
   "outputs": [
    {
     "name": "stdout",
     "output_type": "stream",
     "text": [
      "this is first test\n",
      "this is my second test\n"
     ]
    }
   ],
   "source": [
    "# example of multiple inherientance,\n",
    "\n",
    "class class_1:\n",
    "    def test_1(self):\n",
    "        return \"this is first test\"\n",
    "class class_2:\n",
    "    def test_2(self):\n",
    "        return \"this is my second test\"\n",
    "class class_3(class_1,class_2):\n",
    "    pass\n",
    "class_3_obj=class_3()\n",
    "print(class_3_obj.test_1())\n",
    "print(class_3_obj.test_2())"
   ]
  },
  {
   "cell_type": "code",
   "execution_count": null,
   "id": "5ee3fece-36ba-4af8-8d80-ebf442828b6c",
   "metadata": {},
   "outputs": [],
   "source": []
  }
 ],
 "metadata": {
  "kernelspec": {
   "display_name": "Python 3 (ipykernel)",
   "language": "python",
   "name": "python3"
  },
  "language_info": {
   "codemirror_mode": {
    "name": "ipython",
    "version": 3
   },
   "file_extension": ".py",
   "mimetype": "text/x-python",
   "name": "python",
   "nbconvert_exporter": "python",
   "pygments_lexer": "ipython3",
   "version": "3.10.8"
  }
 },
 "nbformat": 4,
 "nbformat_minor": 5
}
