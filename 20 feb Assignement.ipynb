{
 "cells": [
  {
   "cell_type": "code",
   "execution_count": null,
   "id": "e80bd279-b9ce-47e5-ade8-fe8aa260ec17",
   "metadata": {},
   "outputs": [],
   "source": [
    "\"\"\" Q1. Explain GET and POST methods. \"\"\"\n",
    "Ans:\n",
    "    GET: \n",
    "        It is used to retrieve data from a server. When a client sends a GET request,\n",
    "        it asks the server to provide a specific resource or information. \n",
    "        For example, when you enter a URL in your browser, a GET request is sent to \n",
    "        fetch the webpage associated with that URL. GET requests are typically used \n",
    "        for reading data, like retrieving blog posts or user profiles.\n",
    "        \n",
    "    POST: \n",
    "        It is used to send data to the server for processing or modification.\n",
    "        When a client sends a POST request, it submits data to the server.\n",
    "        For instance, when you submit a form on a website, the form data is sent to the server\n",
    "        using a POST request. The server can then use this data to create a new user account,\n",
    "        update a database, or perform other actions that involve modifying data."
   ]
  },
  {
   "cell_type": "code",
   "execution_count": null,
   "id": "b5e5fb96-fa06-44e1-8304-13dc3592a977",
   "metadata": {},
   "outputs": [],
   "source": [
    "\"\"\" Q2. Why is request used in Flask? \"\"\"\n",
    "Ans:\n",
    "    the 'request' object in Flask is a tool that helps your application interact with and extract\n",
    "    relevant data from incoming requests made by clients, allowing you to build dynamic & interactive web app.\n",
    "    \n",
    "    For example, if a client submits a form with data, you can use the 'request' object to access that form\n",
    "    data & perform actions like saving it to a database or processing it in some way. If a client \n",
    "    includes query parameters in the URL, you can use the 'request' object to extract & utilize those parameters."
   ]
  },
  {
   "cell_type": "code",
   "execution_count": null,
   "id": "c1f73a44-29a4-40ae-9fc8-27414201ad7b",
   "metadata": {},
   "outputs": [],
   "source": [
    "\"\"\" Q3. Why is redirect() used in Flask ? \"\"\"\n",
    "\n",
    "Ans.\n",
    "    redirect() in Flask is used to send the users web browser to a different URL.\n",
    "    It is used when you want to guide the user from one page to another.\n",
    "    For example, after submitting a form, you can use redirect() to send the user to a \"thank you\" \n",
    "    page or to a different section of the website. Redirecting allows you to control the flow of the \n",
    "    application and provide a better user experience by automatically taking the user to the appropriate\n",
    "    destination without them needing to manually enter a new URL."
   ]
  },
  {
   "cell_type": "code",
   "execution_count": null,
   "id": "9e04cd27-0399-4a79-91c2-11ff62143a6b",
   "metadata": {},
   "outputs": [],
   "source": [
    "\"\"\" Q4. What are templates in Flask? Why is the render_template() function used ? \"\"\"\n",
    "\n",
    "Ans.\n",
    "     templates in Flask are files that contain the structure and layout of web pages.\n",
    "    They are written in HTML, CSS, and may include placeholders for dynamic content. \n",
    "    \n",
    "    \n",
    "The render_template() function in Flask is used to combine a template file (containing HTML, CSS, etc.)\n",
    "with data from your Flask application and generate a complete HTML page as a response to the clients request.\n",
    "By using render_template(), you can pass variables and data from your Flask views (Python code) to the template,\n",
    "allowing you to customize the content & generate dynamic web pages tailored to the specific needs of each request."
   ]
  },
  {
   "cell_type": "code",
   "execution_count": null,
   "id": "058b43c2-b022-44b1-a484-90330686d2bc",
   "metadata": {},
   "outputs": [],
   "source": [
    "\"\"\" Q5. Create a simple API. Use Postman to test it. Attach the screenshot of the output in the Jupyter Notebook. \"\"\"\n",
    "\n",
    "from flask import Flask,render_template,request,jsonify\n",
    "\n",
    "app = Flask(__name__)\n",
    "\n",
    "@app.route('/postman_data',methods=['POST'])\n",
    "def operation():\n",
    "    if(request.method == 'POST'):\n",
    "        ops=request.json['operation']\n",
    "        num1=int(request.json['num1'])\n",
    "        num2=int(request.json['num2'])\n",
    "        if(ops=='add'):\n",
    "            r = num1+num2\n",
    "            result='the sum of  '+str(num1)+'and  '+str(num2)+'is  '+str(r)\n",
    "        if(ops=='divide'):\n",
    "            r = num1/num2\n",
    "            result='the division of  '+str(num1)+'and  '+str(num2)+'is  '+str(r)\n",
    "        if(ops=='subtract'):\n",
    "            r = num1-num2\n",
    "            result='the subtraction of  '+str(num1)+'and  '+str(num2)+'is  '+str(r)\n",
    "        if(ops=='multiply'):\n",
    "            r = num1*num2\n",
    "            result='the multiplication of  '+str(num1)+'and  '+str(num2)+'is  '+str(r)\n",
    "\n",
    "            \n",
    "        return jsonify(result)\n",
    "\n",
    "\n",
    "if __name__==\"__main__\":\n",
    "    app.run(host=\"0.0.0.0\")"
   ]
  }
 ],
 "metadata": {
  "kernelspec": {
   "display_name": "Python 3 (ipykernel)",
   "language": "python",
   "name": "python3"
  },
  "language_info": {
   "codemirror_mode": {
    "name": "ipython",
    "version": 3
   },
   "file_extension": ".py",
   "mimetype": "text/x-python",
   "name": "python",
   "nbconvert_exporter": "python",
   "pygments_lexer": "ipython3",
   "version": "3.10.8"
  }
 },
 "nbformat": 4,
 "nbformat_minor": 5
}
