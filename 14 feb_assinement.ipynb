{
 "cells": [
  {
   "cell_type": "code",
   "execution_count": null,
   "id": "8afae569-165f-4bed-835b-06477eac9188",
   "metadata": {},
   "outputs": [],
   "source": [
    "\"\"\"Q1. What is multithreading in python? Why is it used? Name the module used to handle threads in python ?\"\"\"\n",
    "multithreading:\n",
    "    A process which runs multiple threads simulantaneously within a single processes is known as multithreading.\n",
    "Use of multithreading:\n",
    "     To improve the performance of a program by using multiple cpu's or cpu cores..\n",
    " The module that is used to handle threads in python is \"Threading\" Module.\n",
    " The threading module provides a high-level interface for creating and managing threads. It allows you to create and start threads, synchronize their execution, and communicate between threads using various synchronization primitives like locks, events, conditions, and semaphores.    "
   ]
  },
  {
   "cell_type": "code",
   "execution_count": null,
   "id": "a1be93d9-678c-4b56-829f-4b0aa47f8102",
   "metadata": {},
   "outputs": [],
   "source": [
    "\"\"\"Q2. Why threading module used? Write the use of the following functions:\n",
    " 1.activeCount()\n",
    " 2.currentThread()\n",
    " 3.enumerate() \"\"\"\n",
    "\n",
    "# Threading module is used because:\n",
    "#The threading module provides a high-level interface for creating and managing threads. It allows you to create and start threads, synchronize their execution, and communicate between threads using various synchronization primitives like locks, events, conditions, and semaphores.\n",
    "\n",
    "1. ActiveCount():\n",
    "    This function is used to get the number of Thread objects currently alive in the current program. It returns an integer representing the number of active threads.\n",
    "2.currentThread():\n",
    "    The currentThread() function returns a reference to the currently executing Thread object. It is a static method of the Thread class. \n",
    "3.enumerate():\n",
    "    The enumerate() function is used to return a list of all Thread objects that are currently active."
   ]
  },
  {
   "cell_type": "code",
   "execution_count": null,
   "id": "94934735-0212-49dd-893f-a2c5c68ad0e5",
   "metadata": {},
   "outputs": [],
   "source": [
    "\"\"\"3. Explain the following functions\n",
    " 1.run()\n",
    " 2.start()\n",
    " 3.join()\n",
    " 4.isAlive() \"\"\"\n",
    "\n",
    "1.run():\n",
    "     The run() function is a method defined in the Thread class that contains the code to be executed when a thread is started.\n",
    "2.start():\n",
    "    The start() function is a method of the Thread class that is used to start a new thread of execution. It creates a new thread and calls the run() method of the thread, which contains the code you want to execute concurrently.\n",
    "3.join():\n",
    "    The join() function is a method of the Thread class that allows one thread to wait for the completion of another thread\n",
    "4.isAlive():\n",
    "    The isAlive() function is a method of the Thread class that returns a boolean value indicating whether a thread is currently alive or not."
   ]
  },
  {
   "cell_type": "code",
   "execution_count": 7,
   "id": "9749dd31-e798-449d-a75f-8850c6c88289",
   "metadata": {},
   "outputs": [
    {
     "name": "stdout",
     "output_type": "stream",
     "text": [
      "[1, 4, 9, 16, 25, 36, 49, 64, 81]\n",
      "[1, 8, 27, 64, 125, 216, 343, 512, 729]\n"
     ]
    }
   ],
   "source": [
    "\"\"\" 4. Write a python program to create two threads. Thread one must print the list of squares and thread\n",
    "two must print the list of cubes \"\"\"\n",
    "\n",
    "import threading\n",
    "l=[1,2,3,4,5,6,7,8,9]\n",
    "def square():\n",
    "    sqr=[i**2 for i in l]\n",
    "    print(sqr)\n",
    "def cubes():\n",
    "    cub=[i**3 for i in l]\n",
    "    print(cub)\n",
    "if __name__=='__main__':\n",
    "    t1=threading.Thread(target=square)\n",
    "    t2=threading.Thread(target=cubes)\n",
    "    t1.start()\n",
    "    t2.start()"
   ]
  },
  {
   "cell_type": "code",
   "execution_count": null,
   "id": "7a417d82-a614-4e14-bfe9-e31041003b2d",
   "metadata": {},
   "outputs": [],
   "source": [
    "\"\"\" Q5. State advantages and disadvantages of multithreading. \"\"\"\n",
    "Advantages:\n",
    "    1.Increased efficiency: \n",
    "        Multithreading allows multiple threads to execute concurrently within a single process. This can result in improved performance and efficiency, especially in situations where tasks can be divided into smaller, independent subtasks that can be executed in parallel.\n",
    "    2.Responsiveness:\n",
    "        Multithreading can enhance the responsiveness of an application or system. By using multiple threads, time-consuming operations can be offloaded to background threads, while the main thread remains responsive to user interactions. This helps prevent the user interface from freezing or becoming unresponsive.\n",
    "    3.Resource sharing: \n",
    "        Threads within the same process can share the same memory space, file handles, and other system resources. This allows for efficient communication and data sharing between threads, enabling better collaboration and coordination among different parts of a program.\n",
    "    4.Simplified program design: \n",
    "        Multithreading can simplify the design of complex programs by breaking them down into smaller, manageable threads. Each thread can focus on a specific task, making the overall program structure more modular and easier to understand and maintain.\n",
    " \n",
    " Disadvantages:\n",
    "        1.Increased complexity: \n",
    "            Multithreaded programming introduces additional complexity compared to single-threaded programming. Synchronization issues, race conditions, and deadlocks can occur when multiple threads access shared resources simultaneously. Proper synchronization and coordination mechanisms need to be implemented to ensure correct and reliable behavior of the program.\n",
    "        2.Debugging and testing challenges: \n",
    "            Identifying and fixing issues in multithreaded programs can be more challenging than in single-threaded programs. Bugs related to thread synchronization and timing dependencies may not be easily reproducible and can be difficult to debug and test.\n",
    "        3.Overhead: \n",
    "            Multithreading comes with some overhead in terms of memory usage and context switching. Each thread requires its own stack space and resources for thread management. Context switching between threads also incurs a cost. In some cases, the overhead of creating and managing threads may outweigh the potential performance benefits.\n",
    "        4.Scalability limitations: \n",
    "            While multithreading can provide performance improvements for certain types of tasks, it may not always lead to linear scalability. Factors such as contention for shared resources or dependencies between tasks can limit the scalability of multithreaded applications. Careful design and consideration of these factors are necessary to achieve optimal performance."
   ]
  },
  {
   "cell_type": "code",
   "execution_count": null,
   "id": "35aecc26-56f2-49b9-967e-89310bdfa0ab",
   "metadata": {},
   "outputs": [],
   "source": [
    "\"\"\"6. Explain deadlocks and race conditions.\"\"\"\n",
    "Deadlocks:\n",
    "    A deadlock is a situation where two or more threads are blocked indefinitely, waiting for each other to release resources that they hold. It typically happens when each thread is waiting for a resource that is held by another thread, resulting in a circular dependency. As a result, none of the threads can proceed, and the program freezes or becomes unresponsive.\n",
    "    Deadlocks can occur due to various reasons, such as improper resource allocation, incorrect locking order, or insufficient synchronization mechanisms. Detecting and resolving deadlocks can be challenging, and careful design and synchronization techniques, such as using timeouts or avoiding circular dependencies, are required to prevent deadlocks.\n",
    "Race Conditions:\n",
    "    A race condition occurs when the behavior of a program depends on the relative timing or interleaving of multiple threads executing concurrently. It arises when multiple threads access and manipulate shared resources without proper synchronization, leading to unpredictable and incorrect results.\n",
    "    Race conditions typically occur when at least one thread performs a non-atomic operation (an operation that is not executed as a single, indivisible step) on a shared resource. The specific outcome of the program becomes dependent on the specific order or timing of these non-atomic operations, which can vary from execution to execution."
   ]
  }
 ],
 "metadata": {
  "kernelspec": {
   "display_name": "Python 3 (ipykernel)",
   "language": "python",
   "name": "python3"
  },
  "language_info": {
   "codemirror_mode": {
    "name": "ipython",
    "version": 3
   },
   "file_extension": ".py",
   "mimetype": "text/x-python",
   "name": "python",
   "nbconvert_exporter": "python",
   "pygments_lexer": "ipython3",
   "version": "3.10.8"
  }
 },
 "nbformat": 4,
 "nbformat_minor": 5
}
