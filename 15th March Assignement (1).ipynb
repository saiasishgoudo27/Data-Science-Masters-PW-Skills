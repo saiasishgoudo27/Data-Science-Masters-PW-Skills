{
 "cells": [
  {
   "cell_type": "markdown",
   "id": "e5479392-56ab-4ffb-8cac-d3d8436d7030",
   "metadata": {},
   "source": [
    "\"\"\" Q1- Explain the following with an Example\n",
    "a) Artificial Intelligence\n",
    "b) Machine Learning\n",
    "c) Deep Learning \"\"\""
   ]
  },
  {
   "cell_type": "markdown",
   "id": "723cbfcc-8465-4498-967e-31835c3dc9c9",
   "metadata": {},
   "source": [
    "Ans:\n",
    "    \n",
    "    Artificial Intelligence (AI): \n",
    "        Artificial Intelligence refers to the development of computer systems or machines that can perform tasks that typically require human intelligence. These tasks can include understanding natural language, recognizing images, making decisions, and learning from data. \n",
    "        e.g: robots,self driving car ,alexa etc.\n",
    "        \n",
    "    Machine Learning (ML):\n",
    "        Machine Learning is a subset of Artificial Intelligence that focuses on enabling machines to learn from data without being explicitly programmed. Instead of following strict instructions, machine learning algorithms can learn patterns and make predictions or take actions based on the input data.\n",
    "        e.g: Amazon,Netflix recomendation system etc.\n",
    "        \n",
    "        \n",
    "    Deep Learning:\n",
    "        Deep Learning is a subfield of Machine Learning that involves training artificial neural networks with multiple layers (hence the term \"deep\") to learn and make decisions. Deep Learning has been successful in various applications, such as image recognition, natural language processing, and speech recognition. \n",
    "        E.g : object detection, image detection , chat bot etc."
   ]
  },
  {
   "cell_type": "markdown",
   "id": "3bb076e1-8f35-49c9-908d-9e23cc7dcfde",
   "metadata": {},
   "source": [
    "\"\"\" Q2- What is supervised learning? List some Examples of supervised learning. \"\"\""
   ]
  },
  {
   "cell_type": "markdown",
   "id": "905490e3-113b-49b6-908b-0dda96355db6",
   "metadata": {},
   "source": [
    "Ans:\n",
    "\n",
    "    Supervised learning is a type of machine learning where the algorithm learns from labeled data, meaning the training data has both input features and corresponding target labels or output values. The goal of supervised learning is to train a model that can predict or classify new, unseen data based on the patterns it has learned from the labeled examples.\n",
    "    Examples:\n",
    "       \n",
    "        Image Classification: \n",
    "            Given a dataset of images labeled with corresponding classes (e.g., cat, dog, car), the algorithm learns to classify new images based on their features.\n",
    "        \n",
    "        Spam Detection: \n",
    "            Using a labeled dataset of emails categorized as spam or not spam, a supervised learning algorithm can learn to identify new emails as spam or legitimate based on patterns in the email content.\n",
    "        \n",
    "        Sentiment Analysis:\n",
    "            By training on a dataset of text documents labeled with positive or negative sentiments, a supervised learning model can learn to analyze and classify the sentiment of new, unseen text data.\n",
    "        \n",
    "        Stock Price Prediction: \n",
    "            With historical stock price data as input and corresponding target labels (future price movements), a supervised learning algorithm can learn patterns and make predictions on future stock prices.\n",
    "        \n",
    "        Medical Diagnosis: \n",
    "            By training on labeled medical records, where each record includes symptoms and corresponding diagnoses, a supervised learning model can learn to predict the diagnosis for new patients based on their symptoms.\n",
    "        "
   ]
  },
  {
   "cell_type": "markdown",
   "id": "6f61fb3f-cf5b-4b71-8279-ae9ec406bed4",
   "metadata": {},
   "source": [
    "\"\"\" Q3- What is unsupervised learning? List some Examples of unsupervised learning.\"\"\""
   ]
  },
  {
   "cell_type": "markdown",
   "id": "158d6a96-43ee-4358-bc50-ed193f809a1a",
   "metadata": {},
   "source": [
    "Ans:\n",
    "    \n",
    "    Unsupervised learning is a type of machine learning where the algorithm learns patterns and structures from unlabeled data, meaning the training data does not have any corresponding target labels or output values. The goal of unsupervised learning is to discover hidden patterns, relationships, or structures in the data without any specific guidance or predefined categories.\n",
    "    \n",
    "    Examples:\n",
    "        \n",
    "        Clustering: \n",
    "            In clustering, the algorithm groups similar data points together based on their inherent characteristics or proximity in the feature space. This can be useful for customer segmentation, image segmentation, anomaly detection, and more.\n",
    "        \n",
    "        Dimensionality Reduction: \n",
    "            Unsupervised learning can be used to reduce the dimensionality of high-dimensional data. Techniques like Principal Component Analysis (PCA) or t-SNE (t-Distributed Stochastic Neighbor Embedding) can be employed to find lower-dimensional representations that retain meaningful information.\n",
    "        \n",
    "        Anomaly Detection: \n",
    "            Unsupervised learning algorithms can be used to identify anomalies or outliers in a dataset, where the algorithm learns the normal patterns in the data and flags instances that deviate significantly from those patterns.\n",
    "        \n",
    "        Association Rule Mining: \n",
    "            This technique discovers interesting relationships or associations among items in a dataset. It is commonly used in market basket analysis to find patterns such as Customers who buy X are likely to buy Y.\n",
    "        \n",
    "        Generative Models: \n",
    "            Unsupervised learning can be used to build generative models that can generate new samples similar to the training data. Examples include Generative Adversarial Networks (GANs) and Variational Autoencoders (VAEs).\n",
    "        \n",
    "        Data Preprocessing: \n",
    "            Unsupervised learning techniques can also be used for data preprocessing tasks such as feature extraction, data normalization, or imputation of missing values.\n"
   ]
  },
  {
   "cell_type": "markdown",
   "id": "9860f0fb-0591-4905-ba44-720c69830f95",
   "metadata": {},
   "source": [
    "Q4.What is difference between AI , ML, DL and DS?"
   ]
  },
  {
   "cell_type": "markdown",
   "id": "a60d7884-b05f-44f6-a4d6-58b42a7b5298",
   "metadata": {},
   "source": [
    "Ans:\n",
    "    Artificial Intelligence (AI):\n",
    "       \n",
    "    Definition:\n",
    "            AI is a broad field that focuses on developing intelligent machines or systems that can perform tasks that typically require human intelligence. Key Focus: Simulating human-like intelligence and behaviors, including understanding natural language, recognizing objects, making decisions, and learning from data. Techniques and Applications: Natural language processing, computer vision, expert systems, machine learning, robotics, automated reasoning, and more.\n",
    "    \n",
    "    Machine Learning (ML):\n",
    "        Definition: \n",
    "            ML is a subset of AI that involves the development of algorithms and models that can learn from data and make predictions or take actions without being explicitly programmed. Key Focus: Learning from data to identify patterns, relationships, and insights, and using that knowledge to make informed decisions or predictions on new, unseen data. Techniques and Applications: Supervised learning, unsupervised learning, reinforcement learning, predictive modeling, recommendation systems, fraud detection, and more.\n",
    "    \n",
    "    Deep Learning (DL): \n",
    "        Definition:\n",
    "            DL is a subfield of ML that utilizes artificial neural networks with multiple layers (deep neural networks) to learn and make complex decisions or predictions. Key Focus: Learning hierarchical representations of data by automatically extracting intricate patterns and features from the input data. Techniques and Applications: Image and speech recognition, natural language processing, aut\n",
    "            onomous vehicles, generative modeling, and other tasks requiring complex pattern recognition.\n",
    "    \n",
    "    Data Science (DS):\n",
    "        Definition:\n",
    "            DS is a multidisciplinary field that involves extracting insights and knowledge from data using a combination of statistics, ML techniques, and domain expertise. Key Focus: Collecting, cleaning, analyzing, and interpreting large volumes of structured and unstructured data to extract actionable insights and drive decision-making. Techniques and Applications: Data cleaning, data preprocessing, exploratory data analysis, predictive modeling, data visualization, and domain-specific applications in various fields."
   ]
  },
  {
   "cell_type": "markdown",
   "id": "0cd61ea3-db7b-489d-a562-ad747cca04e7",
   "metadata": {},
   "source": [
    "\"\"\" Q5.What are main differences between supervised, unsupervised and semi-supervised learning? \"\"\""
   ]
  },
  {
   "cell_type": "markdown",
   "id": "da95a844-2e50-4dc7-9ed9-cd2a353637c3",
   "metadata": {},
   "source": [
    "Ans:\n",
    "    \n",
    "    Supervised learning: \n",
    "        Supervised learning is a type of machine learning in which an algorithm learns from labeled data. The input data is labeled with the correct output, and the algorithm learns to map the input to the output. The goal of supervised learning is to build a model that can accurately predict the output for new, unseen data. Examples of supervised learning include classification and regression problems.\n",
    "    \n",
    "    Unsupervised learning: \n",
    "        Unsupervised learning is a type of machine learning in which the algorithm learns from unlabeled data. The goal of unsupervised learning is to identify patterns in the data without any prior knowledge of what those patterns might be. The algorithm tries to find the underlying structure or distribution of the data. Examples of unsupervised learning include clustering, dimensionality reduction, and anomaly detection.\n",
    "    \n",
    "    Semi-supervised learning: \n",
    "        Semi-supervised learning is a type of machine learning that combines both labeled and unlabeled data. The algorithm learns from the labeled data and tries to generalize to the unlabeled data. The goal of semi-supervised learning is to improve the accuracy of the model by using the unlabeled data. Semi-supervised learning can be useful when there is a large amount of unlabeled data available, but labeling the data is expensive or time-consuming."
   ]
  },
  {
   "cell_type": "markdown",
   "id": "7c2d51ed-9a01-43c7-a0ac-f6ada6e2880a",
   "metadata": {},
   "source": [
    "\"\"\" Q6. What is train, test and validation split? Explain Importance of each term. \"\"\""
   ]
  },
  {
   "cell_type": "markdown",
   "id": "cfa9638e-8b76-4609-b300-ef2504c6e976",
   "metadata": {},
   "source": [
    "Ans:\n",
    "    Training Data: The training data is a subset of the available dataset that is used to train the machine learning model. It consists of input features along with corresponding target labels or output values. Importance: The training data is crucial for the model to learn the underlying patterns and relationships between the input features and target labels. By exposing the model to a diverse range of examples, it can adjust its internal parameters to make accurate predictions or classifications.\n",
    "\n",
    "Test Data: The test data is another subset of the dataset that is used to evaluate the performance of the trained model. It contains input features, but unlike the training data, it does not have the corresponding target labels. Importance: The test data is essential for assessing how well the trained model generalizes to new, unseen data. By evaluating the model on the test data, we can measure its performance, such as accuracy, precision, recall, or any other relevant metrics. The test data acts as a benchmark for assessing the model's effectiveness.\n",
    "\n",
    "Validation Data: The validation data is an optional subset of the dataset used during the training phase to fine-tune the model's hyperparameters and avoid overfitting. Importance: The validation data helps in monitoring the model's performance during training and making decisions on hyperparameter tuning or model selection. By evaluating the model on the validation data, we can detect and mitigate issues like overfitting, where the model performs well on the training data but fails to generalize to new data. The validation data provides an unbiased evaluation of the model's performance during training."
   ]
  },
  {
   "cell_type": "markdown",
   "id": "81d30f23-0d06-46d3-9040-57f86edd209f",
   "metadata": {},
   "source": [
    "###Q7. How can unsupervised machine learning be used in anomaly detection ?"
   ]
  },
  {
   "cell_type": "markdown",
   "id": "ce309f67-1646-47da-abbf-4f99e9463841",
   "metadata": {},
   "source": [
    "Ans:\n",
    "    Unsupervised machine learning can be effectively used in anomaly detection by leveraging the inherent patterns and structures in the data. Here's a general approach for using unsupervised learning for anomaly detection:\n",
    "\n",
    "Data Preparation: Collect the dataset that represents the normal behavior or patterns of the system or process under consideration. Ensure that the dataset does not contain any labeled anomalies or outliers.\n",
    "\n",
    "Feature Selection/Extraction: Identify relevant features from the dataset that can capture the characteristics of normal behavior. Perform any necessary data preprocessing steps, such as normalization or dimensionality reduction, to enhance the quality of the features.\n",
    "\n",
    "Unsupervised Learning Algorithm: Apply an unsupervised learning algorithm, such as clustering or density-based methods, to learn the underlying structure of the data. The algorithm will automatically group similar data points together based on their inherent similarities or densities.\n",
    "\n",
    "Anomaly Identification: Once the model is trained, it can identify anomalies by comparing new, unseen data points to the learned normal patterns. Data points that deviate significantly from the learned patterns or fall outside the established clusters can be flagged as anomalies.\n",
    "\n",
    "Threshold Determination: Establish a threshold or anomaly score to distinguish between normal and anomalous instances. This threshold can be determined based on statistical properties of the data or domain-specific knowledge.\n",
    "\n",
    "Evaluation and Iteration: Evaluate the performance of the anomaly detection system using appropriate metrics, such as precision, recall, or F1-score. Refine the process by iteratively adjusting the feature selection, algorithm parameters, or threshold to improve the detection accuracy."
   ]
  },
  {
   "cell_type": "markdown",
   "id": "fe78406e-53be-4df5-98db-ef8f20091848",
   "metadata": {},
   "source": [
    "#Q8.List down some commonly used supervised learning algorithms and unsupervised learning algorithms."
   ]
  },
  {
   "cell_type": "markdown",
   "id": "e9d03501-6fa1-42ba-a69b-6b5833ab46f8",
   "metadata": {},
   "source": [
    "Ans:\n",
    "    Supervised Learning Algorithms:\n",
    "\n",
    "1.Linear Regression 2.Logistic Regression 3.Decision Trees 4.Random Forests 5.Support Vector Machines (SVM) 6.Naive Bayes 7.k-Nearest Neighbors (k-NN) 8.Gradient Boosting algorithms (e.g., XGBoost, LightGBM, AdaBoost)\n",
    "\n",
    "Unsupervised Learning Algorithms:\n",
    "\n",
    "1.K-means Clustering 2.Hierarchical Clustering 3.DBSCAN (Density-Based Spatial Clustering of Applications with Noise) 4.Gaussian Mixture Models (GMM) 5.Principal Component Analysis (PCA) 6.t-SNE (t-Distributed Stochastic Neighbor Embedding) 7.Association Rule Mining (e.g., Apriori, FP-Growth) 8.Autoencoders (used for dimensionality reduction or anomaly detection)"
   ]
  }
 ],
 "metadata": {
  "kernelspec": {
   "display_name": "Python 3 (ipykernel)",
   "language": "python",
   "name": "python3"
  },
  "language_info": {
   "codemirror_mode": {
    "name": "ipython",
    "version": 3
   },
   "file_extension": ".py",
   "mimetype": "text/x-python",
   "name": "python",
   "nbconvert_exporter": "python",
   "pygments_lexer": "ipython3",
   "version": "3.10.8"
  }
 },
 "nbformat": 4,
 "nbformat_minor": 5
}
