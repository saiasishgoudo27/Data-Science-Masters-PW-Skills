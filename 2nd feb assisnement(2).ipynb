{
 "cells": [
  {
   "cell_type": "code",
   "execution_count": 7,
   "id": "973e32b9-4445-4d84-a566-42bec973a4db",
   "metadata": {},
   "outputs": [
    {
     "name": "stdout",
     "output_type": "stream",
     "text": [
      "apple\n",
      "banana\n",
      "cherry\n"
     ]
    }
   ],
   "source": [
    "'''Q1.Explain with an example each when to use a for loop and a while loop.'''\n",
    "#A for loop is used when you know ahead of time how many times you want to loop through a block of code.\n",
    "#For Example,\n",
    "fruits = ['apple', 'banana', 'cherry']\n",
    "for fruit in fruits:\n",
    "    print(fruit)"
   ]
  },
  {
   "cell_type": "code",
   "execution_count": 2,
   "id": "84c41774-7392-41b2-9f9c-761aa2ebf300",
   "metadata": {},
   "outputs": [
    {
     "name": "stdin",
     "output_type": "stream",
     "text": [
      "Enter a number:  @\n"
     ]
    },
    {
     "name": "stdout",
     "output_type": "stream",
     "text": [
      "Invalid input, try again.\n"
     ]
    },
    {
     "name": "stdin",
     "output_type": "stream",
     "text": [
      "Enter a number:  3\n"
     ]
    }
   ],
   "source": [
    "#A while loop is used when you don't know ahead of time how many times you want to loop through a block of code.\n",
    "#For Example,\n",
    "while True:\n",
    "    user_input = input('Enter a number: ')\n",
    "    if user_input.isdigit():\n",
    "        break\n",
    "    else:\n",
    "        print('Invalid input, try again.')"
   ]
  },
  {
   "cell_type": "code",
   "execution_count": 9,
   "id": "6d38b2d7-7fa0-4a7f-b6d4-1e0da9297943",
   "metadata": {},
   "outputs": [
    {
     "name": "stdout",
     "output_type": "stream",
     "text": [
      "55\n",
      "3628800\n"
     ]
    }
   ],
   "source": [
    "'''Q2. Write a python program to print the sum and product of the first 10 natural numbers using for\n",
    "and while loop.'''\n",
    "sum = 0 \n",
    "product = 1\n",
    "for i in range(1,11):\n",
    "    sum = sum + i\n",
    "    product = product * i\n",
    "print(sum)\n",
    "print(product)"
   ]
  },
  {
   "cell_type": "code",
   "execution_count": 5,
   "id": "1d7c0bb4-93f2-4bcb-ae7b-65a0c4a7ac96",
   "metadata": {},
   "outputs": [
    {
     "name": "stdout",
     "output_type": "stream",
     "text": [
      "55\n",
      "3628800\n"
     ]
    }
   ],
   "source": [
    "i = 1\n",
    "sum1 = 0\n",
    "pro = 1\n",
    "while i<=10:\n",
    "    sum1 = sum1 + i\n",
    "    pro = pro * i\n",
    "    i = i + 1\n",
    "print(sum1)\n",
    "print(pro)"
   ]
  },
  {
   "cell_type": "code",
   "execution_count": 15,
   "id": "2f8f4091-9429-4de3-b433-c27750b09939",
   "metadata": {},
   "outputs": [
    {
     "name": "stdin",
     "output_type": "stream",
     "text": [
      "enter an units 310\n"
     ]
    },
    {
     "name": "stdout",
     "output_type": "stream",
     "text": [
      "2250.0\n"
     ]
    }
   ],
   "source": [
    "'''Q3. Create a python program to compute the electricity bill for a household.'''\n",
    "units = float(input(\"enter an units\"))\n",
    "bill = 0.0\n",
    "if units<=100:\n",
    "    bill = (units * 4.5)\n",
    "elif (units>100 and units<=200):\n",
    "    bill = (100 * 4.5) + ((units-100) * 6)\n",
    "elif (units>200 and units<=300):\n",
    "     bill = (100 * 4.5) + (100 * 6) + ((units-200) * 10)\n",
    "else:\n",
    "     bill = (100 * 4.5) + (100 * 6) + (100 * 10) + ((units-300) * 20)\n",
    "print(bill)        "
   ]
  },
  {
   "cell_type": "code",
   "execution_count": 5,
   "id": "30a37cd4-83b9-4f7e-b675-6ff27b878e04",
   "metadata": {},
   "outputs": [
    {
     "name": "stdout",
     "output_type": "stream",
     "text": [
      "[2, 4, 5, 6, 8, 10, 12, 14, 15, 16, 18, 20, 22, 24, 25, 26, 28, 30, 32, 34, 35, 36, 38, 40, 42, 44, 45, 46, 48, 50, 52, 54, 55, 56, 58, 60, 62, 64, 65, 66, 68, 70, 72, 74, 75, 76, 78, 80, 82, 84, 85, 86, 88, 90, 92, 94, 95, 96, 98, 100]\n",
      "[2, 4, 5, 6, 8, 10, 12, 14, 15, 16, 18, 20, 22, 24, 25, 26, 28, 30, 32, 34, 35, 36, 38, 40, 42, 44, 45, 46, 48, 50, 52, 54, 55, 56, 58, 60, 62, 64, 65, 66, 68, 70, 72, 74, 75, 76, 78, 80, 82, 84, 85, 86, 88, 90, 92, 94, 95, 96, 98, 100]\n"
     ]
    }
   ],
   "source": [
    "'''Q4. Create a list of numbers from 1 to 100. Use for loop and while loop to calculate the cube of each\n",
    "number and if the cube of that number is divisible by 4 or 5 then append that number in a list and print\n",
    "that list.'''\n",
    "l=list(range(1,101))\n",
    "l1=[]\n",
    "l2=[]\n",
    "for i in l:\n",
    "    cube=i*i*i\n",
    "    if(cube%4==0 or cube%5==0):\n",
    "        l1.append(i)\n",
    "print(l1) \n",
    "i=1\n",
    "while i<=100:\n",
    "    value=i*i*i\n",
    "    if(value%4==0 or value%5==0):\n",
    "        l2.append(i)\n",
    "    i=i+1    \n",
    "print(l2)"
   ]
  },
  {
   "cell_type": "code",
   "execution_count": 6,
   "id": "43ede4cf-aa60-4ea3-a6a6-beef21ca245d",
   "metadata": {},
   "outputs": [
    {
     "name": "stdout",
     "output_type": "stream",
     "text": [
      "12\n"
     ]
    }
   ],
   "source": [
    "\"\"\"Q5. Write a program to filter count vowels in the below-given string.\n",
    "string = \"I want to become a data scientist\".\"\"\"\n",
    "\n",
    "s = \"I want to become a data scientist\"\n",
    "count = 0\n",
    "for i in s:\n",
    "    if(i.lower() in ['a','e','i','o','u']):\n",
    "        count = count + 1\n",
    "print(count)        "
   ]
  },
  {
   "cell_type": "code",
   "execution_count": null,
   "id": "82567906-27e1-4518-9239-ac11cb07f7ab",
   "metadata": {},
   "outputs": [],
   "source": []
  }
 ],
 "metadata": {
  "kernelspec": {
   "display_name": "Python 3 (ipykernel)",
   "language": "python",
   "name": "python3"
  },
  "language_info": {
   "codemirror_mode": {
    "name": "ipython",
    "version": 3
   },
   "file_extension": ".py",
   "mimetype": "text/x-python",
   "name": "python",
   "nbconvert_exporter": "python",
   "pygments_lexer": "ipython3",
   "version": "3.10.8"
  }
 },
 "nbformat": 4,
 "nbformat_minor": 5
}
