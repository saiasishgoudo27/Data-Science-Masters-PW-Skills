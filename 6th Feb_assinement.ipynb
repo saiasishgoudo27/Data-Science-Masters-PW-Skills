{
 "cells": [
  {
   "cell_type": "code",
   "execution_count": 7,
   "id": "a7e3d2f7-e0ee-4182-8a3b-6c0210e97d1a",
   "metadata": {},
   "outputs": [
    {
     "name": "stdout",
     "output_type": "stream",
     "text": [
      "16808670803256918598810828800000\n"
     ]
    }
   ],
   "source": [
    "\"\"\"\"Q1. Create a function which will take a list as an argument and return the product of all the numbers\n",
    "        after creating a flat list.\n",
    "        Use the below-given list as an argument for your function.\n",
    "        list1 = [1,2,3,4, [44,55,66, True], False, (34,56,78,89,34), {1,2,3,3,2,1}, {1:34, \"key2\": [55, 67, 78, 89], 4: (45,\n",
    "        22, 61, 34)}, [56, 'data science'], 'Machine Learning']\n",
    "        Note: you must extract numeric keys and values of the dictionary also.\"\"\"\n",
    "\n",
    "\n",
    "def filtering(lst):\n",
    "    flat_list=[]\n",
    "    for item in lst:\n",
    "        if isinstance(item,list):\n",
    "            flat_list.extend(filtering(item))\n",
    "        elif isinstance(item,tuple):\n",
    "            flat_list.extend(filtering(item))\n",
    "        elif isinstance(item,dict):\n",
    "            for key,value in item.items():\n",
    "                flat_list.extend(filtering([key]))\n",
    "                flat_list.extend(filtering([value]))\n",
    "        elif isinstance(item,(int,float)):\n",
    "            flat_list.append(item)\n",
    "    return flat_list\n",
    "\n",
    "list1 = [1,2,3,4, [44,55,66, True], False, (27,5,20,17,81), {1,2,3,3,2,1}, {1:34, \"key2\": [55, 66,77,88], 4: (33, 35, 79, 69)}, [56, 'data science'], 'Machine Learning']\n",
    "filter_list=filtering(list1)\n",
    "product=1\n",
    "for i in filter_list:\n",
    "    if str(i).isdigit():\n",
    "        product=product*i\n",
    "print(product)"
   ]
  },
  {
   "cell_type": "code",
   "execution_count": 11,
   "id": "bcaa24e4-8176-4957-afcd-415c1b065aab",
   "metadata": {},
   "outputs": [
    {
     "name": "stdout",
     "output_type": "stream",
     "text": [
      "r$dzmg$gl$yvxlnv$z$wzgz$hxrvmgrhg\n"
     ]
    }
   ],
   "source": [
    "\"\"\"Q2. Write a python program for encrypting a message sent to you by your friend. The logic of encryption\n",
    "        should be such that, for a the output should be z. For b, the output should be y. For c, the output should\n",
    "        be x respectively. Also, the whitespace should be replaced with a dollar sign. Keep the punctuation\n",
    "        marks unchanged.\n",
    "        \n",
    "        Input Sentence: I want to become a Data Scientist.\n",
    "        \n",
    "        Encrypt the above input sentence using the program you just created.\n",
    "        Note: Convert the given input sentence into lowercase before encrypting. The final output should be\n",
    "        lowercase.\"\"\"\n",
    "\n",
    "string=(\"I want to become a Data Scientist\").lower()\n",
    "encrypting_str=\"\"\n",
    "for i in string:\n",
    "    if i==\" \":\n",
    "        encrypting_str=encrypting_str+\"$\"\n",
    "    elif i.isalpha():\n",
    "        encrypting_str=encrypting_str+ chr(219-ord(i))\n",
    "    else:\n",
    "        encrypting_str=encrypting_str+i\n",
    "print(encrypting_str)"
   ]
  }
 ],
 "metadata": {
  "kernelspec": {
   "display_name": "Python 3 (ipykernel)",
   "language": "python",
   "name": "python3"
  },
  "language_info": {
   "codemirror_mode": {
    "name": "ipython",
    "version": 3
   },
   "file_extension": ".py",
   "mimetype": "text/x-python",
   "name": "python",
   "nbconvert_exporter": "python",
   "pygments_lexer": "ipython3",
   "version": "3.10.8"
  }
 },
 "nbformat": 4,
 "nbformat_minor": 5
}
